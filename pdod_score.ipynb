{
 "cells": [
  {
   "cell_type": "code",
   "execution_count": 2,
   "metadata": {
    "ExecuteTime": {
     "end_time": "2023-02-13T04:32:00.869308Z",
     "start_time": "2023-02-13T04:31:15.443585Z"
    },
    "id": "EDawrYlWh9NB",
    "pycharm": {
     "is_executing": true
    },
    "tags": []
   },
   "outputs": [],
   "source": [
    "import os\n",
    "import networkx as nx\n",
    "import pickle\n",
    "import itertools\n",
    "import pandas as pd\n",
    "import json\n",
    "from tqdm.notebook import tqdm\n",
    "import numpy as np\n",
    "\n",
    "import pdod_func\n",
    "import multiprocessing\n",
    "\n",
    "\n",
    "import scipy.stats\n",
    "import statsmodels.api as sm\n",
    "import csv\n"
   ]
  },
  {
   "cell_type": "markdown",
   "metadata": {
    "id": "V4e9auF1Q0P4"
   },
   "source": [
    "# Functions\n",
    "negative edges and genes generator\n",
    "\n",
    "PDOD path_length (conflict resolve), if there are no path between nodes, it makes 'inf'\n",
    "\n",
    "PDOD score function"
   ]
  },
  {
   "cell_type": "code",
   "execution_count": 3,
   "metadata": {
    "ExecuteTime": {
     "end_time": "2023-02-13T04:32:00.884333Z",
     "start_time": "2023-02-13T04:32:00.872313Z"
    },
    "id": "7ynrcs7ppOPC",
    "tags": []
   },
   "outputs": [],
   "source": [
    "def conflict_resolve(path_network, path_generator):\n",
    "  n_pos_path = 0\n",
    "  n_neg_path = 0  \n",
    "  path_list = [path for path in path_generator]\n",
    "\n",
    "  for path in path_list:\n",
    "    pos_neg_value = 0\n",
    "    for i in range(len(path)-1):\n",
    "      if path_network[path[i]][path[i+1]]['sign'] == 'negative':\n",
    "        pos_neg_value += 1\n",
    "    if pos_neg_value % 2 == 0:\n",
    "      n_pos_path +=1\n",
    "    else:\n",
    "      n_neg_path +=1\n",
    "  \n",
    "  if not n_pos_path == n_neg_path:\n",
    "    path_length = (len(path_list[0])-1) * (n_pos_path + n_neg_path) / (n_pos_path - n_neg_path)\n",
    "  else:\n",
    "    path_length = float('inf')\n",
    "  \n",
    "  return path_length\n"
   ]
  },
  {
   "cell_type": "code",
   "execution_count": 4,
   "metadata": {
    "ExecuteTime": {
     "end_time": "2023-02-13T04:32:00.932314Z",
     "start_time": "2023-02-13T04:32:00.919317Z"
    },
    "id": "N8tEiVhJr6UN",
    "tags": []
   },
   "outputs": [],
   "source": [
    "def pdod_score(drug_target_dict, disease_gene_dict, path_network, bell_parameter):\n",
    "    disease_gene_count = len([disease_gene for disease_gene in disease_gene_dict.keys() if disease_gene in path_network])\n",
    "    drug_target_count = len([drug_target for drug_target in drug_target_dict.keys() if drug_target in path_network])\n",
    "    normalize = drug_target_count*disease_gene_count\n",
    "    if normalize == 0: # this is None value\n",
    "        return 0\n",
    "\n",
    "    result = 0\n",
    "    for relation in itertools.product(list(drug_target_dict.keys()), list(disease_gene_dict.keys())):\n",
    "        source, target = relation\n",
    "        if source in path_network and target in path_network:\n",
    "            if nx.has_path(path_network, source = source, target=target):\n",
    "                path_list = [path for path in nx.all_shortest_paths(path_network, source = source, target=target)]\n",
    "                path_length = conflict_resolve(path_network, path_list)\n",
    "            else:\n",
    "                path_length = float('inf')\n",
    "\n",
    "            drug_target_sign = 0\n",
    "            if drug_target_dict[source] == 'positive':\n",
    "                drug_target_sign = 1\n",
    "            else:\n",
    "                drug_target_sign = -1\n",
    "\n",
    "            disease_gene_sign = 0\n",
    "            if disease_gene_dict[target] == 'negative':\n",
    "                disease_gene_sign = 1\n",
    "            else:\n",
    "                disease_gene_sign = -1\n",
    "\n",
    "            sign = drug_target_sign * disease_gene_sign * np.sign(path_length)\n",
    "\n",
    "            bell_shape = 1 / (1 + abs(path_length/bell_parameter) ** 2)\n",
    "\n",
    "            result += sign * bell_shape\n",
    "\n",
    "    result = result / normalize\n",
    "\n",
    "    return result\n"
   ]
  },
  {
   "cell_type": "markdown",
   "metadata": {
    "id": "8DCt3y47QWzU"
   },
   "source": [
    "# GEO parsing function"
   ]
  },
  {
   "cell_type": "code",
   "execution_count": 5,
   "metadata": {
    "ExecuteTime": {
     "end_time": "2023-02-13T04:32:00.964314Z",
     "start_time": "2023-02-13T04:32:00.944316Z"
    },
    "id": "s5gGN0UFS8KG",
    "tags": []
   },
   "outputs": [],
   "source": [
    "def get_annotation(gene_dataframe, data_flatform, leftkey):\n",
    "  gene_annotated = gene_dataframe.reset_index().merge(gse.gpls[data_flatform].table[[\"ID\", \"ENTREZ_GENE_ID\", \"Gene Symbol\"]],\n",
    "                                left_on=leftkey, right_on=\"ID\").set_index(leftkey)\n",
    "  del gene_annotated[\"ID\"]\n",
    "  # remove probes without ENTREZ\n",
    "  gene_annotated = gene_annotated.dropna(subset=[\"ENTREZ_GENE_ID\"])\n",
    "  # remove probes with more than one gene assigned\n",
    "  gene_annotated['ENTREZ_GENE_ID'] = pd.to_numeric(gene_annotated['ENTREZ_GENE_ID'], errors=\"coerce\")\n",
    "  gene_annotated.dropna(how=\"any\", inplace=True)\n",
    "  gene_annotated['ENTREZ_GENE_ID'] = gene_annotated.ENTREZ_GENE_ID.astype('int').astype('str')\n",
    "  # for each gene average LFC over probes\n",
    "  gene_annotated = gene_annotated.groupby(\"Gene Symbol\").median()\n",
    "\n",
    "  return gene_annotated"
   ]
  },
  {
   "cell_type": "code",
   "execution_count": 6,
   "metadata": {
    "ExecuteTime": {
     "end_time": "2023-02-13T04:32:00.978315Z",
     "start_time": "2023-02-13T04:32:00.967315Z"
    },
    "id": "ZXvO0fvWS7r1",
    "tags": []
   },
   "outputs": [],
   "source": [
    "def get_lfc(control_samples, post_samples):\n",
    "  control_mean = np.log2(control_samples.mean(axis=1))\n",
    "  post_mean = np.log2(post_samples.mean(axis=1))\n",
    "  LFCs = pd.DataFrame({\"LFC\": (post_mean - control_mean).to_dict()})\n",
    "  return LFCs"
   ]
  },
  {
   "cell_type": "code",
   "execution_count": 7,
   "metadata": {
    "ExecuteTime": {
     "end_time": "2023-02-13T04:32:01.008832Z",
     "start_time": "2023-02-13T04:32:00.995832Z"
    },
    "id": "RLxasWWfSuTJ",
    "tags": []
   },
   "outputs": [],
   "source": [
    "def get_ttest(control_samples, post_samples):\n",
    "    ttest_result = scipy.stats.ttest_ind(control_samples, post_samples, axis=1)\n",
    "    p_val_list = ttest_result[1]\n",
    "    fdrcorrection = sm.stats.fdrcorrection(p_val_list)\n",
    "    FDR_pass_fail = fdrcorrection[0]\n",
    "    corrected_p_val = fdrcorrection[1]\n",
    "    ttest = pd.DataFrame({\"stat\": ttest_result[0], \"pvalue\": ttest_result[1], \"FDR\": corrected_p_val, \"P/F\": FDR_pass_fail}, index=control_samples.index)\n",
    "    return ttest"
   ]
  },
  {
   "cell_type": "markdown",
   "metadata": {
    "id": "qO8fbrQQsmTh"
   },
   "source": [
    "## GSE68719 / kings college"
   ]
  },
  {
   "cell_type": "markdown",
   "metadata": {
    "id": "AbRSwEaFv5PD"
   },
   "source": [
    "### remove row at 60% of 0 counts"
   ]
  },
  {
   "cell_type": "code",
   "execution_count": 15,
   "metadata": {
    "ExecuteTime": {
     "end_time": "2023-02-13T04:32:04.444917Z",
     "start_time": "2023-02-13T04:32:01.011832Z"
    },
    "id": "ZcTcra9GaOUX",
    "tags": []
   },
   "outputs": [],
   "source": [
    "with open('gene_expression_data/GSE68719_TPM_DF.p', 'rb') as f:\n",
    "  total_DF =  pickle.load(f)\n",
    "\n",
    "total_DF = total_DF[total_DF.astype('bool').mean(axis=1)>=0.4]\n",
    "\n",
    "index_list = total_DF.index\n",
    "index_list = [target_id.split('|')[-4] for target_id in index_list]\n",
    "total_DF.insert(loc=0, column='Gene Symbol', value=index_list)\n",
    "\n",
    "total_DF = total_DF.reset_index(drop=True)\n",
    "total_DF = total_DF.groupby(\"Gene Symbol\").median()\n",
    "\n",
    "normal_samples = total_DF[total_DF.columns[:44]]\n",
    "parkinson_smaples = total_DF[total_DF.columns[44:]]\n",
    "\n",
    "KL_LFCs = get_lfc(normal_samples, parkinson_smaples)\n",
    "KL_FDR = get_ttest(normal_samples, parkinson_smaples)"
   ]
  },
  {
   "cell_type": "markdown",
   "metadata": {
    "id": "My766FrgQcE8"
   },
   "source": [
    "# Network parsing"
   ]
  },
  {
   "cell_type": "markdown",
   "metadata": {
    "id": "BojUhxgYjfvq"
   },
   "source": [
    "필요한 정보들\n",
    "1. Network (intersection between Pathway commons and ARN)\n",
    "2. gene expression 방향 (Core Genes)\n",
    "3. Drug activation 정보"
   ]
  },
  {
   "cell_type": "markdown",
   "metadata": {
    "id": "AS19q3L_B2lk"
   },
   "source": [
    "## Pathway commons network (directed)"
   ]
  },
  {
   "cell_type": "markdown",
   "metadata": {
    "id": "emGvnmUM0jdO"
   },
   "source": [
    "### load"
   ]
  },
  {
   "cell_type": "code",
   "execution_count": 8,
   "metadata": {
    "ExecuteTime": {
     "end_time": "2023-02-13T04:32:04.886915Z",
     "start_time": "2023-02-13T04:32:04.447916Z"
    },
    "id": "hqZPPaQtEeg5",
    "scrolled": true,
    "tags": []
   },
   "outputs": [],
   "source": [
    "with open('network_data/pc_di_digraph.p', 'rb') as f:\n",
    "    directed_PC = pickle.load(f)"
   ]
  },
  {
   "cell_type": "code",
   "execution_count": 9,
   "metadata": {
    "ExecuteTime": {
     "end_time": "2023-02-13T04:32:04.918915Z",
     "start_time": "2023-02-13T04:32:04.891917Z"
    },
    "tags": []
   },
   "outputs": [
    {
     "name": "stdout",
     "output_type": "stream",
     "text": [
      "16891\n",
      "460033\n"
     ]
    }
   ],
   "source": [
    "print(len(directed_PC.nodes()))\n",
    "print(len(directed_PC.edges()))"
   ]
  },
  {
   "cell_type": "markdown",
   "metadata": {
    "id": "tWg-cOAKKZDo"
   },
   "source": [
    "## KEGG"
   ]
  },
  {
   "cell_type": "markdown",
   "metadata": {
    "id": "6YYMDUngPha-"
   },
   "source": [
    "### Load"
   ]
  },
  {
   "cell_type": "code",
   "execution_count": 10,
   "metadata": {
    "ExecuteTime": {
     "end_time": "2023-02-13T04:32:12.619813Z",
     "start_time": "2023-02-13T04:32:12.588814Z"
    },
    "id": "ytFbaavNQ9eP",
    "tags": []
   },
   "outputs": [],
   "source": [
    "with open('network_data/KEGG_graph.p', 'rb') as f:\n",
    "    KEGG_graph = pickle.load(f)"
   ]
  },
  {
   "cell_type": "code",
   "execution_count": 11,
   "metadata": {
    "ExecuteTime": {
     "end_time": "2023-02-13T04:32:13.011815Z",
     "start_time": "2023-02-13T04:32:13.005833Z"
    },
    "tags": []
   },
   "outputs": [
    {
     "name": "stdout",
     "output_type": "stream",
     "text": [
      "5117\n",
      "9820\n"
     ]
    }
   ],
   "source": [
    "print(len(KEGG_graph.nodes()))\n",
    "print(len(KEGG_graph.edges()))"
   ]
  },
  {
   "cell_type": "code",
   "execution_count": 12,
   "metadata": {
    "ExecuteTime": {
     "end_time": "2023-02-13T04:32:15.695460Z",
     "start_time": "2023-02-13T04:32:15.660460Z"
    },
    "tags": []
   },
   "outputs": [
    {
     "name": "stdout",
     "output_type": "stream",
     "text": [
      "7697\n",
      "2123\n"
     ]
    }
   ],
   "source": [
    "pos_count = 0\n",
    "neg_count = 0\n",
    "for edge in KEGG_graph.edges():\n",
    "    edge_sign = KEGG_graph[edge[0]][edge[1]]['sign']\n",
    "    if edge_sign == 'positive':\n",
    "        pos_count += 1\n",
    "    elif edge_sign == 'negative':\n",
    "        neg_count += 1\n",
    "\n",
    "print(pos_count)\n",
    "print(neg_count)"
   ]
  },
  {
   "cell_type": "markdown",
   "metadata": {
    "id": "8isLr8Fi2B0W"
   },
   "source": [
    "## Backbone network (PC + KEGG)"
   ]
  },
  {
   "cell_type": "code",
   "execution_count": 16,
   "metadata": {
    "ExecuteTime": {
     "end_time": "2023-02-13T04:32:19.567874Z",
     "start_time": "2023-02-13T04:32:17.506841Z"
    },
    "id": "XLlyuQ9W0jdO",
    "tags": []
   },
   "outputs": [],
   "source": [
    "# filtering backbone by gene expression\n",
    "\n",
    "filtered_backbone_network = nx.DiGraph()\n",
    "for edge in list(directed_PC.edges):\n",
    "    if edge[0] in KL_LFCs.index and edge[1] in KL_LFCs.index:\n",
    "        filtered_backbone_network.add_edge(edge[0], edge[1], sign = 'associate')\n",
    "            \n",
    "for edge in list(KEGG_graph.edges):\n",
    "    if edge[0] in KL_LFCs.index and edge[1] in KL_LFCs.index:\n",
    "        if filtered_backbone_network.has_edge(edge[0], edge[1]):\n",
    "            filtered_backbone_network[edge[0]][edge[1]]['sign'] = KEGG_graph[edge[0]][edge[1]]['sign']\n",
    "        else:\n",
    "            filtered_backbone_network.add_edge(edge[0], edge[1], sign = KEGG_graph[edge[0]][edge[1]]['sign'])"
   ]
  },
  {
   "cell_type": "code",
   "execution_count": 17,
   "metadata": {
    "ExecuteTime": {
     "end_time": "2023-02-13T04:32:19.596870Z",
     "start_time": "2023-02-13T04:32:19.570872Z"
    },
    "tags": []
   },
   "outputs": [
    {
     "name": "stdout",
     "output_type": "stream",
     "text": [
      "391789\n",
      "15328\n"
     ]
    }
   ],
   "source": [
    "print(len(filtered_backbone_network.edges))\n",
    "print(len(filtered_backbone_network.nodes))"
   ]
  },
  {
   "cell_type": "markdown",
   "metadata": {
    "id": "8aibrj9Id10Q"
   },
   "source": [
    "## ARN core genes with expression sign\n",
    "\n",
    "LFC log값이 음수면 down regulated된 거로 취급"
   ]
  },
  {
   "cell_type": "code",
   "execution_count": 18,
   "metadata": {
    "ExecuteTime": {
     "end_time": "2023-02-13T04:32:20.295913Z",
     "start_time": "2023-02-13T04:32:20.224912Z"
    },
    "id": "_yLSbT0FQEiv",
    "tags": []
   },
   "outputs": [],
   "source": [
    "ARN_core = pd.read_csv('Gene_data/autophagy_proteins_ARN.csv')"
   ]
  },
  {
   "cell_type": "code",
   "execution_count": 19,
   "metadata": {
    "ExecuteTime": {
     "end_time": "2023-02-13T04:32:20.928224Z",
     "start_time": "2023-02-13T04:32:20.917227Z"
    },
    "tags": []
   },
   "outputs": [
    {
     "data": {
      "text/plain": [
       "37"
      ]
     },
     "execution_count": 19,
     "metadata": {},
     "output_type": "execute_result"
    }
   ],
   "source": [
    "len(ARN_core)"
   ]
  },
  {
   "cell_type": "code",
   "execution_count": 20,
   "metadata": {
    "ExecuteTime": {
     "end_time": "2023-02-13T04:32:23.213718Z",
     "start_time": "2023-02-13T04:32:23.198705Z"
    },
    "id": "Ugyl9wBm0jdO",
    "tags": []
   },
   "outputs": [],
   "source": [
    "def added_ARN_core_sign(added_ARN_core, LFCs):\n",
    "    ARN_core_nodes = dict()\n",
    "    for gene in added_ARN_core:\n",
    "        if gene in LFCs.index:\n",
    "            if LFCs.loc[gene, 'LFC'] < 0:\n",
    "                ARN_core_nodes[gene] = 'negative'\n",
    "            else:\n",
    "                ARN_core_nodes[gene] = 'positive'\n",
    "    \n",
    "    return ARN_core_nodes"
   ]
  },
  {
   "cell_type": "code",
   "execution_count": 21,
   "metadata": {
    "ExecuteTime": {
     "end_time": "2023-02-13T04:32:24.113536Z",
     "start_time": "2023-02-13T04:32:24.107534Z"
    },
    "id": "kEcSU__U0jdO",
    "tags": []
   },
   "outputs": [],
   "source": [
    "def ARN_core_sign_FDR(ARN_core, LFCs, backbone_network, FDR_df):\n",
    "    ARN_core_nodes = dict()\n",
    "    for index, row in ARN_core.iterrows():\n",
    "        gene_name = row['Gene_symbol']\n",
    "        if gene_name in LFCs.index and gene_name in backbone_network and gene_name in FDR_df.index and FDR_df.loc[gene_name]['P/F']:\n",
    "            if LFCs.loc[gene_name, 'LFC'] < 0:\n",
    "                ARN_core_nodes[gene_name] = 'negative'\n",
    "            else:\n",
    "                ARN_core_nodes[gene_name] = 'positive'\n",
    "    \n",
    "    return ARN_core_nodes"
   ]
  },
  {
   "cell_type": "code",
   "execution_count": 250,
   "metadata": {
    "ExecuteTime": {
     "end_time": "2023-02-13T04:32:25.658721Z",
     "start_time": "2023-02-13T04:32:25.643707Z"
    },
    "id": "Q60t5YRKVNLa",
    "tags": []
   },
   "outputs": [],
   "source": [
    "def add_RWR_genes_FDR(core_gene_FDR, backbone_network, FDR_df):\n",
    "    interesting_genes = [gene for gene in core_gene_FDR.keys()]\n",
    "\n",
    "    all_genes_in_network = set(backbone_network.nodes())\n",
    "    interesting_genes = set(interesting_genes)\n",
    "    interesting_genes = interesting_genes & all_genes_in_network\n",
    "    \n",
    "    start_nodes = dict()\n",
    "    for gene in interesting_genes:\n",
    "      start_nodes[gene] = 1\n",
    "\n",
    "    pr = nx.pagerank(backbone_network, personalization=start_nodes)\n",
    "    \n",
    "    sorted_rwr = sorted(pr.items(), key=lambda item: item[1], reverse=True)\n",
    "    rwr_score_list = [gene[1] for gene in sorted_rwr]\n",
    "    rwr_score_list = np.array(rwr_score_list)\n",
    "    rwr_score_list = (rwr_score_list - rwr_score_list.mean())/rwr_score_list.std()\n",
    "    rwr_p_value_list = scipy.stats.norm.sf(rwr_score_list)\n",
    "    added_core_genes = [gene[0] for gene in sorted_rwr if gene[0] in interesting_genes]\n",
    "\n",
    "    for i in range(len(sorted_rwr)):\n",
    "        test_gene = sorted_rwr[i]\n",
    "        if test_gene[0] in added_core_genes:\n",
    "            continue    \n",
    "        else:\n",
    "            if test_gene[0] in KL_FDR.index and KL_FDR.loc[test_gene[0]]['P/F'] and rwr_p_value_list[i] < 0.05:\n",
    "                added_core_genes.append(test_gene[0])\n",
    "                print(test_gene[0], rwr_p_value_list[i])\n",
    "    return added_core_genes"
   ]
  },
  {
   "cell_type": "code",
   "execution_count": 251,
   "metadata": {
    "ExecuteTime": {
     "end_time": "2023-02-13T04:41:26.917452Z",
     "start_time": "2023-02-13T04:41:26.888451Z"
    },
    "id": "tL9eRcfc0jdO",
    "tags": []
   },
   "outputs": [
    {
     "name": "stdout",
     "output_type": "stream",
     "text": [
      "NRBF2 0.0\n",
      "PTK2 0.0007771433658386994\n",
      "ACTR2 0.04771191494879311\n"
     ]
    }
   ],
   "source": [
    "# Get sign of Genes\n",
    "KL_ARN_core_nodes_FDR = ARN_core_sign_FDR(ARN_core, KL_LFCs, filtered_backbone_network, KL_FDR)\n",
    "# Add RWR algorithm\n",
    "added_core_genes_FDR = add_RWR_genes_FDR(KL_ARN_core_nodes_FDR, filtered_backbone_network, KL_FDR)"
   ]
  },
  {
   "cell_type": "code",
   "execution_count": 37,
   "metadata": {
    "ExecuteTime": {
     "end_time": "2023-02-13T04:42:05.888081Z",
     "start_time": "2023-02-13T04:42:04.819400Z"
    },
    "tags": []
   },
   "outputs": [],
   "source": [
    "interesting_genes = [gene for gene in KL_ARN_core_nodes_FDR.keys()]\n",
    "\n",
    "all_genes_in_network = set(filtered_backbone_network.nodes())\n",
    "interesting_genes = set(interesting_genes)\n",
    "interesting_genes = interesting_genes & all_genes_in_network\n",
    "\n",
    "start_nodes = dict()\n",
    "for gene in interesting_genes:\n",
    "  start_nodes[gene] = 1\n",
    "\n",
    "pr = nx.pagerank(filtered_backbone_network, personalization=start_nodes)\n",
    "sorted_rwr = sorted(pr.items(), key=lambda item: item[1], reverse=True)\n",
    "rwr_score_list = [gene[1] for gene in sorted_rwr]\n",
    "rwr_score_list = np.array(rwr_score_list)\n",
    "rwr_score_list = (rwr_score_list - rwr_score_list.mean())/rwr_score_list.std()\n",
    "rwr_p_value_list = scipy.stats.norm.sf(abs(rwr_score_list))\n",
    "\n",
    "added_core_genes = [gene[0] for gene in sorted_rwr if gene[0] in interesting_genes]\n",
    "\n",
    "\n",
    "\n",
    "for i in range(len(sorted_rwr)):\n",
    "    test_gene = sorted_rwr[i]\n",
    "    if test_gene[0] in added_core_genes:\n",
    "        continue    \n",
    "    else:\n",
    "        if test_gene[0] in KL_FDR.index and KL_FDR.loc[test_gene[0]]['P/F'] and rwr_p_value_list[i] < 0.05:\n",
    "            added_core_genes.append(test_gene[0])"
   ]
  },
  {
   "cell_type": "code",
   "execution_count": 28,
   "metadata": {
    "tags": []
   },
   "outputs": [],
   "source": [
    "rwr_score_list = [gene[1] for gene in sorted_rwr]"
   ]
  },
  {
   "cell_type": "code",
   "execution_count": 30,
   "metadata": {
    "tags": []
   },
   "outputs": [],
   "source": [
    "rwr_score_list = np.array(rwr_score_list)\n",
    "rwr_score_list = (rwr_score_list - rwr_score_list.mean())/rwr_score_list.std()"
   ]
  },
  {
   "cell_type": "code",
   "execution_count": 175,
   "metadata": {
    "ExecuteTime": {
     "end_time": "2020-11-06T13:55:57.061028Z",
     "start_time": "2020-11-06T13:55:57.057515Z"
    },
    "id": "r-7zU8wD0jdO",
    "outputId": "29f0d4e4-b2ae-4824-9e7e-1be291b7af86",
    "tags": []
   },
   "outputs": [
    {
     "name": "stdout",
     "output_type": "stream",
     "text": [
      "{'PIK3R4': 'negative', 'ATG14': 'negative', 'FYCO1': 'positive', 'NRBF2': 'negative', 'PTK2': 'negative', 'ACTR2': 'negative'}\n"
     ]
    }
   ],
   "source": [
    "# Check sign of genes\n",
    "KL_added_core_nodes_FDR = added_ARN_core_sign(added_core_genes_FDR, KL_LFCs)\n",
    "print(KL_added_core_nodes_FDR)"
   ]
  },
  {
   "cell_type": "markdown",
   "metadata": {
    "id": "ScvYf9Kie0iX"
   },
   "source": [
    "## Drugbank drug-gene load\n"
   ]
  },
  {
   "cell_type": "markdown",
   "metadata": {},
   "source": [
    "### relation load"
   ]
  },
  {
   "cell_type": "code",
   "execution_count": 72,
   "metadata": {
    "tags": []
   },
   "outputs": [],
   "source": [
    "with open('drug_data/drug_target.pickle', 'rb') as f:\n",
    "  drug_dict = pickle.load(f)"
   ]
  },
  {
   "cell_type": "code",
   "execution_count": 19,
   "metadata": {
    "tags": []
   },
   "outputs": [
    {
     "name": "stdout",
     "output_type": "stream",
     "text": [
      "7486\n",
      "9972\n",
      "2057\n",
      "0\n",
      "2539\n",
      "7433\n"
     ]
    }
   ],
   "source": [
    "count = 0\n",
    "target_list = list()\n",
    "zero_count = 0\n",
    "pos_count = 0\n",
    "neg_count = 0\n",
    "for drug in drug_dict:\n",
    "    target_list += list(drug_dict[drug].keys())\n",
    "    count += len(drug_dict[drug])\n",
    "    for gene in drug_dict[drug]:\n",
    "        if drug_dict[drug][gene] == 'positive':\n",
    "            pos_count+=1\n",
    "        elif drug_dict[drug][gene] == 'negative':\n",
    "            neg_count+=1\n",
    "print(len(drug_dict))\n",
    "print(count)\n",
    "print(len(set(target_list)))\n",
    "print(zero_count)\n",
    "print(pos_count)\n",
    "print(neg_count)"
   ]
  },
  {
   "cell_type": "code",
   "execution_count": 11,
   "metadata": {},
   "outputs": [],
   "source": [
    "relation_list = list()\n",
    "for drug in drug_dict:\n",
    "    target_list += list(drug_dict[drug].keys())\n",
    "    count += len(drug_dict[drug])\n",
    "    for gene in drug_dict[drug]:\n",
    "        relation_list.append(drug_dict[drug][gene])"
   ]
  },
  {
   "cell_type": "code",
   "execution_count": 15,
   "metadata": {},
   "outputs": [],
   "source": [
    "relation_list = [relation for relation in relation_list if len(relation)!=0]"
   ]
  },
  {
   "cell_type": "code",
   "execution_count": 16,
   "metadata": {},
   "outputs": [
    {
     "data": {
      "text/plain": [
       "9972"
      ]
     },
     "execution_count": 16,
     "metadata": {},
     "output_type": "execute_result"
    }
   ],
   "source": [
    "len(relation_list)"
   ]
  },
  {
   "cell_type": "markdown",
   "metadata": {
    "id": "ZjEcBPJ9AvxR"
   },
   "source": [
    "## Drugbank drug-indication relation load"
   ]
  },
  {
   "cell_type": "code",
   "execution_count": 28,
   "metadata": {
    "ExecuteTime": {
     "end_time": "2020-10-17T17:52:05.686308Z",
     "start_time": "2020-10-17T17:52:05.674270Z"
    },
    "hidden": true,
    "id": "plhqagAeBQJA"
   },
   "outputs": [
    {
     "data": {
      "application/vnd.jupyter.widget-view+json": {
       "model_id": "64d53ef64e874c70a264aeac3d088f30",
       "version_major": 2,
       "version_minor": 0
      },
      "text/plain": [
       "  0%|          | 0/13581 [00:00<?, ?it/s]"
      ]
     },
     "metadata": {},
     "output_type": "display_data"
    },
    {
     "ename": "UnicodeDecodeError",
     "evalue": "'cp949' codec can't decode byte 0xe2 in position 169434: illegal multibyte sequence",
     "output_type": "error",
     "traceback": [
      "\u001b[1;31m---------------------------------------------------------------------------\u001b[0m",
      "\u001b[1;31mUnicodeDecodeError\u001b[0m                        Traceback (most recent call last)",
      "\u001b[1;32m~\\AppData\\Local\\Temp\\ipykernel_14356\\3545258194.py\u001b[0m in \u001b[0;36m<module>\u001b[1;34m\u001b[0m\n\u001b[0;32m      3\u001b[0m \u001b[1;32mfor\u001b[0m \u001b[0mdrug\u001b[0m \u001b[1;32min\u001b[0m \u001b[0mtqdm\u001b[0m\u001b[1;33m(\u001b[0m\u001b[0mdrug_list\u001b[0m\u001b[1;33m)\u001b[0m\u001b[1;33m:\u001b[0m\u001b[1;33m\u001b[0m\u001b[1;33m\u001b[0m\u001b[0m\n\u001b[0;32m      4\u001b[0m     \u001b[1;32mwith\u001b[0m \u001b[0mopen\u001b[0m\u001b[1;33m(\u001b[0m\u001b[0mdrug_bank_path\u001b[0m \u001b[1;33m+\u001b[0m \u001b[0mdrug\u001b[0m\u001b[1;33m)\u001b[0m \u001b[1;32mas\u001b[0m \u001b[0mjson_file\u001b[0m\u001b[1;33m:\u001b[0m\u001b[1;33m\u001b[0m\u001b[1;33m\u001b[0m\u001b[0m\n\u001b[1;32m----> 5\u001b[1;33m         \u001b[0mdrug_info\u001b[0m \u001b[1;33m=\u001b[0m \u001b[0mjson\u001b[0m\u001b[1;33m.\u001b[0m\u001b[0mload\u001b[0m\u001b[1;33m(\u001b[0m\u001b[0mjson_file\u001b[0m\u001b[1;33m)\u001b[0m\u001b[1;33m\u001b[0m\u001b[1;33m\u001b[0m\u001b[0m\n\u001b[0m\u001b[0;32m      6\u001b[0m     \u001b[0mname\u001b[0m \u001b[1;33m=\u001b[0m \u001b[0mdrug_info\u001b[0m\u001b[1;33m[\u001b[0m\u001b[1;34m'name'\u001b[0m\u001b[1;33m]\u001b[0m\u001b[1;33m\u001b[0m\u001b[1;33m\u001b[0m\u001b[0m\n\u001b[0;32m      7\u001b[0m     \u001b[0mstructured_indications\u001b[0m \u001b[1;33m=\u001b[0m \u001b[0mdrug_info\u001b[0m\u001b[1;33m[\u001b[0m\u001b[1;34m'pharmacology'\u001b[0m\u001b[1;33m]\u001b[0m\u001b[1;33m[\u001b[0m\u001b[1;34m'structured_indications'\u001b[0m\u001b[1;33m]\u001b[0m\u001b[1;33m\u001b[0m\u001b[1;33m\u001b[0m\u001b[0m\n",
      "\u001b[1;32mD:\\Anaconda3\\envs\\py37\\lib\\json\\__init__.py\u001b[0m in \u001b[0;36mload\u001b[1;34m(fp, cls, object_hook, parse_float, parse_int, parse_constant, object_pairs_hook, **kw)\u001b[0m\n\u001b[0;32m    291\u001b[0m     \u001b[0mkwarg\u001b[0m\u001b[1;33m;\u001b[0m \u001b[0motherwise\u001b[0m\u001b[0;31m \u001b[0m\u001b[0;31m`\u001b[0m\u001b[0;31m`\u001b[0m\u001b[0mJSONDecoder\u001b[0m\u001b[0;31m`\u001b[0m\u001b[0;31m`\u001b[0m \u001b[1;32mis\u001b[0m \u001b[0mused\u001b[0m\u001b[1;33m.\u001b[0m\u001b[1;33m\u001b[0m\u001b[1;33m\u001b[0m\u001b[0m\n\u001b[0;32m    292\u001b[0m     \"\"\"\n\u001b[1;32m--> 293\u001b[1;33m     return loads(fp.read(),\n\u001b[0m\u001b[0;32m    294\u001b[0m         \u001b[0mcls\u001b[0m\u001b[1;33m=\u001b[0m\u001b[0mcls\u001b[0m\u001b[1;33m,\u001b[0m \u001b[0mobject_hook\u001b[0m\u001b[1;33m=\u001b[0m\u001b[0mobject_hook\u001b[0m\u001b[1;33m,\u001b[0m\u001b[1;33m\u001b[0m\u001b[1;33m\u001b[0m\u001b[0m\n\u001b[0;32m    295\u001b[0m         \u001b[0mparse_float\u001b[0m\u001b[1;33m=\u001b[0m\u001b[0mparse_float\u001b[0m\u001b[1;33m,\u001b[0m \u001b[0mparse_int\u001b[0m\u001b[1;33m=\u001b[0m\u001b[0mparse_int\u001b[0m\u001b[1;33m,\u001b[0m\u001b[1;33m\u001b[0m\u001b[1;33m\u001b[0m\u001b[0m\n",
      "\u001b[1;31mUnicodeDecodeError\u001b[0m: 'cp949' codec can't decode byte 0xe2 in position 169434: illegal multibyte sequence"
     ]
    }
   ],
   "source": [
    "drug_indi_dict = dict()\n",
    "\n",
    "for drug in tqdm(drug_list):\n",
    "    with open(drug_bank_path + drug) as json_file:\n",
    "        drug_info = json.load(json_file)\n",
    "    name = drug_info['name']\n",
    "    structured_indications = drug_info['pharmacology']['structured_indications']\n",
    "  \n",
    "    indication_list = list()\n",
    "    if len(structured_indications) > 0:\n",
    "        for indication in structured_indications:\n",
    "            indication_info = dict()\n",
    "            if 'condition' in indication.keys():\n",
    "                condition = indication['condition']\n",
    "                indication_info['drugbank_id'] = condition['drugbank_id']\n",
    "                indication_info['name'] = condition['title']\n",
    "                indication_info['kind'] = indication['kind']\n",
    "                indication_list.append(indication_info)\n",
    "\n",
    "    drug_indi_dict[name] = indication_list\n"
   ]
  },
  {
   "cell_type": "code",
   "execution_count": null,
   "metadata": {
    "ExecuteTime": {
     "end_time": "2020-10-17T17:52:06.293226Z",
     "start_time": "2020-10-17T17:52:06.290143Z"
    },
    "hidden": true,
    "id": "s4HA63mPBQJE"
   },
   "outputs": [],
   "source": [
    "with open('drug_data/drug_indication.pickle', 'wb') as f:\n",
    "    pickle.dump(drug_indi_dict, f)"
   ]
  },
  {
   "cell_type": "markdown",
   "metadata": {
    "id": "sdwbMtZeR9Y5"
   },
   "source": [
    "### relation load"
   ]
  },
  {
   "cell_type": "code",
   "execution_count": 254,
   "metadata": {
    "ExecuteTime": {
     "end_time": "2020-11-05T23:57:39.555115Z",
     "start_time": "2020-11-05T23:57:39.509414Z"
    },
    "id": "0qBxr4r8BQJF",
    "tags": []
   },
   "outputs": [],
   "source": [
    "with open('drug_data/drug_indication.pickle', 'rb') as f:\n",
    "  drug_indi_dict = pickle.load(f)"
   ]
  },
  {
   "cell_type": "code",
   "execution_count": 258,
   "metadata": {
    "tags": []
   },
   "outputs": [
    {
     "data": {
      "text/plain": [
       "{'adjunct_for_therapy',\n",
       " 'adjunct_therapy_in_management_of',\n",
       " 'adjunct_therapy_in_prevention_of',\n",
       " 'adjunct_therapy_in_prophylaxis_of',\n",
       " 'adjunct_therapy_in_treatment_of',\n",
       " 'diagnostic_agent',\n",
       " 'diagnostic_process',\n",
       " 'for_therapy',\n",
       " 'induction_of',\n",
       " 'maintenance_of',\n",
       " 'management_of',\n",
       " 'prevention_of',\n",
       " 'prophylaxis_of',\n",
       " 'reversal_of',\n",
       " 'symptomatic_treatment_of',\n",
       " 'treatment_of',\n",
       " 'used_as_adjunct_for_symptomatic_treatment_of',\n",
       " 'used_as_adjunct_in_combination_for_prophylaxis_of',\n",
       " 'used_as_adjunct_in_combination_for_symptomatic_treatment_of',\n",
       " 'used_as_adjunct_in_combination_for_therapy',\n",
       " 'used_as_adjunct_in_combination_to_maintain',\n",
       " 'used_as_adjunct_in_combination_to_manage',\n",
       " 'used_as_adjunct_in_combination_to_prevent',\n",
       " 'used_as_adjunct_in_combination_to_treat',\n",
       " 'used_in_combination_as_diagnostic_agent',\n",
       " 'used_in_combination_for_prophylaxis_of',\n",
       " 'used_in_combination_for_symptomatic_treatment_of',\n",
       " 'used_in_combination_to_induce',\n",
       " 'used_in_combination_to_maintain',\n",
       " 'used_in_combination_to_manage',\n",
       " 'used_in_combination_to_prevent',\n",
       " 'used_in_combination_to_reverse',\n",
       " 'used_in_combination_to_treat'}"
      ]
     },
     "execution_count": 258,
     "metadata": {},
     "output_type": "execute_result"
    }
   ],
   "source": [
    "kind_set = list()\n",
    "for drug in drug_indi_dict:\n",
    "    kind_list = [indi['kind'] for indi in drug_indi_dict[drug]]\n",
    "    kind_set += kind_list\n",
    "kind_set = set(kind_set)\n",
    "kind_set"
   ]
  },
  {
   "cell_type": "code",
   "execution_count": 264,
   "metadata": {
    "collapsed": true,
    "jupyter": {
     "outputs_hidden": true
    },
    "tags": []
   },
   "outputs": [
    {
     "data": {
      "text/plain": [
       "['>1 micromole per liter toxic plasma methotrexate concentrations',\n",
       " 'ACE Inhibitor-associated Angioedema',\n",
       " 'Ab externo surgery Glaucoma',\n",
       " 'Abnormal Uterine Bleeding',\n",
       " 'Abrupt opioid withdrawal',\n",
       " 'Abscess, Intra-Abdominal',\n",
       " 'Abscess, Intra-Abdominal caused by Anaerobic Bacterial Infection',\n",
       " 'Abscesses',\n",
       " 'Abscesses caused by susceptible bacteria',\n",
       " 'Accelerated phase chronic myologenic leukemia',\n",
       " 'Acetaminophen Overdose',\n",
       " 'Achalasia',\n",
       " 'Acid Reflux',\n",
       " 'Acid indigestion',\n",
       " 'Acidosis, Renal Tubular',\n",
       " 'Acinetobacter infection',\n",
       " 'Acne',\n",
       " 'Acne Rosacea',\n",
       " 'Acne Vulgaris',\n",
       " 'Acquired Coagulation Factor Deficiency',\n",
       " 'Acquired immune hemolytic anemia',\n",
       " 'Acromegaly',\n",
       " 'Actinic Cheilitis',\n",
       " 'Actinic Keratoses of the face',\n",
       " 'Actinic Keratoses of the scalp',\n",
       " 'Actinic Keratosis (AK)',\n",
       " 'Actinomycosis',\n",
       " 'Active Ankylosing Spondylitis or Non-Radiographic Axial Spondyloarthritis',\n",
       " 'Active Ankylosing spondylitis',\n",
       " 'Active Duodenal ulcer',\n",
       " 'Active Gastric ulcer',\n",
       " 'Active Tuberculosis',\n",
       " 'Active confirmed by clinical features, confirmed by imaging features relapsing multiple sclerosis (MS)',\n",
       " 'Active duodenal ulcers',\n",
       " 'Active secondary progressive Multiple Sclerosis',\n",
       " 'Active systemic Juvenile idiopathic arthritis',\n",
       " 'Acute Agitation',\n",
       " 'Acute Alcohol Withdrawal',\n",
       " 'Acute Allergic Reactions',\n",
       " 'Acute Angle closure glaucoma',\n",
       " 'Acute Anxiety',\n",
       " 'Acute Bacterial Exacerbation of Chronic Bronchitis (ABECB)',\n",
       " 'Acute Bacterial Exacerbation of Chronic Bronchitis (ABECB) caused by susceptible bacteria',\n",
       " 'Acute Bacterial Sinusitis (ABS)',\n",
       " 'Acute Bacterial Skin and Skin Structure Infections caused by Enterobacter cloaecae',\n",
       " 'Acute Bacterial Skin and Skin Structure Infections caused by Enterococcus faecalis',\n",
       " 'Acute Bacterial Skin and Skin Structure Infections caused by Escherichia Coli',\n",
       " 'Acute Bacterial Skin and Skin Structure Infections caused by Klebsiella Pneumoniae',\n",
       " 'Acute Bacterial Skin and Skin Structure Infections caused by MRSA',\n",
       " 'Acute Bacterial Skin and Skin Structure Infections caused by MSSA',\n",
       " 'Acute Bacterial Skin and Skin Structure Infections caused by Pseudomonas Aeruginosa',\n",
       " 'Acute Bacterial Skin and Skin Structure Infections caused by Staphylococcus Aureus',\n",
       " 'Acute Bacterial Skin and Skin Structure Infections caused by Staphylococcus Lugdunensis',\n",
       " 'Acute Bacterial Skin and Skin Structure Infections caused by Staphylococcus haemolyticus',\n",
       " 'Acute Bacterial Skin and Skin Structure Infections caused by Streptococcus Agalactiae',\n",
       " 'Acute Bacterial Skin and Skin Structure Infections caused by Streptococcus anginosus',\n",
       " 'Acute Bacterial Skin and Skin Structure Infections caused by Streptococcus constellatus',\n",
       " 'Acute Bacterial Skin and Skin Structure Infections caused by Streptococcus intermedius',\n",
       " 'Acute Bacterial Skin and Skin Structure Infections caused by streptococcus pyogenes',\n",
       " 'Acute Bursitis',\n",
       " 'Acute Circulatory Failure',\n",
       " 'Acute Cluster headaches',\n",
       " 'Acute Complications of Sickle Cell Disease',\n",
       " 'Acute Coronary Syndromes (ACS)',\n",
       " 'Acute Crusting Rhinitis',\n",
       " 'Acute Cystitis',\n",
       " 'Acute Depression',\n",
       " 'Acute Depressive Episode',\n",
       " 'Acute Discomfort',\n",
       " 'Acute Enterocolitis',\n",
       " 'Acute Exacerbation of Chronic Bronchitis (AECB)',\n",
       " 'Acute Exacerbation of Chronic Bronchitis caused by Haemophilus Influenza',\n",
       " 'Acute Exacerbation of Chronic Bronchitis caused by Streptococcus Pneumoniae',\n",
       " 'Acute Exacerbation of Psychosis',\n",
       " 'Acute Exacerbations of Chronic Bronchitis caused by Haemophilus Influenza',\n",
       " 'Acute Exacerbations of Chronic Bronchitis caused by Haemophilus Influenzae',\n",
       " 'Acute Exacerbations of Chronic Bronchitis caused by Moraxella catarrhalis',\n",
       " 'Acute Genital herpes',\n",
       " 'Acute Gouty Arthritis',\n",
       " 'Acute Hepatic Porphyria (AHP)',\n",
       " 'Acute Herpes Zoster',\n",
       " 'Acute Herpes labialis',\n",
       " 'Acute Herpetic keratitis',\n",
       " 'Acute Inflammation',\n",
       " 'Acute Intermittent Porphyria (AIP)',\n",
       " 'Acute Intestinal amebiasis',\n",
       " 'Acute Low Back Pain',\n",
       " 'Acute Lymphoblastic Leukaemia Recurrent',\n",
       " 'Acute Lymphoblastic Leukaemias (ALL)',\n",
       " 'Acute Lymphocytic Leukemia (ALL)',\n",
       " 'Acute Malaria',\n",
       " 'Acute Mania',\n",
       " 'Acute Manic episode',\n",
       " 'Acute Mercury poisoning',\n",
       " 'Acute Migraine',\n",
       " 'Acute Migraine without aura',\n",
       " 'Acute Mixed manic depressive episode',\n",
       " 'Acute Multiple sclerosis',\n",
       " 'Acute Musculoskeletal injury',\n",
       " 'Acute Myeloblastic Leukemia',\n",
       " 'Acute Myelocytic Leukemia',\n",
       " 'Acute Myeloid Leukemia (AML)',\n",
       " 'Acute Nonlymphocytic Leukemia',\n",
       " 'Acute Otitis Externa',\n",
       " 'Acute Otitis Externa caused by Pseudomonas Aeruginosa',\n",
       " 'Acute Otitis Media',\n",
       " 'Acute Otitis Media caused by susceptible bacteria',\n",
       " 'Acute Pelvic inflammatory disease',\n",
       " 'Acute Pericarditis',\n",
       " 'Acute Promyelocytic Leukemia (APL)',\n",
       " 'Acute Prostatitis',\n",
       " 'Acute Pulmonary Edema',\n",
       " 'Acute Pyelonephritis caused by Infection Due to Escherichia Coli',\n",
       " 'Acute Renal Failure (ARF)',\n",
       " 'Acute Rhinitis',\n",
       " 'Acute Sore Throat',\n",
       " 'Acute Subacromial bursitis',\n",
       " 'Acute Tenosynovitis',\n",
       " 'Acute Uncomplicated Pyelonephritis',\n",
       " 'Acute acute bacterial skin and skin structure infections',\n",
       " 'Acute attack of hereditary angioedema',\n",
       " 'Acute bacterial exacerbation of COPD caused by Haemophilus Influenza Infections, Moraxella Catarrhalis Infection, Streptococcus Pneumoniae Infections',\n",
       " 'Acute bacterial sinusitis caused by susceptible bacteria',\n",
       " 'Acute bleeding episodes',\n",
       " 'Acute epididymo-orchitis caused by Chlamydia Trachomatis',\n",
       " 'Acute exacerbation of chronic bronchitis caused by Haemophilus parainfluenzae',\n",
       " 'Acute exacerbation of chronic bronchitis caused by Moraxella catarrhalis',\n",
       " 'Acute hemodynamically stable Myocardial infarction',\n",
       " 'Acute infection caused by Salmonella typhi',\n",
       " 'Acute iron intoxication',\n",
       " 'Acute massive pulmonary embolism',\n",
       " 'Acute maxillary sinusitis',\n",
       " 'Acute maxillary sinusitis caused by H. influenzae',\n",
       " 'Acute maxillary sinusitis caused by M. catarrhalis',\n",
       " 'Acute maxillary sinusitis caused by Susceptible strains of Streptococcus pneumoniae',\n",
       " 'Acute nonspecific tenosynovitis',\n",
       " 'Acute otitis externa caused by Staphylococcus aureus',\n",
       " 'Acute otitis media caused by M. catarrhalis',\n",
       " 'Acute otitis media caused by S.pneumoniae',\n",
       " 'Acute pelvic inflammatory disease caused by Neisseria Gonorrheae Infection',\n",
       " 'Acute rheumatic carditis',\n",
       " 'Acute rhino-sinusitis',\n",
       " 'Acute skin and subcutaneous tissue bacterial infections',\n",
       " 'Acute supraspinatus tendinitis',\n",
       " 'Acute, recurrent Diabetic Gastroparesis',\n",
       " 'Acute, recurrent Urinary Tract Infection caused by Klebsiella Enterobacter, Staphylococcus, Proteus mirabilis, Proteus vulgaris, Escherichia Coli',\n",
       " 'Acute, severe Pain',\n",
       " 'Acute, superficial, symptomatic Vein Thrombosis',\n",
       " 'Acute, uncomplicated Cystitis caused by Escherichia coli',\n",
       " 'Acute, uncomplicated Cystitis caused by Staphylococcus saprophyticus',\n",
       " 'Acute, uncomplicated Gonorrhea',\n",
       " 'Acute, uncomplicated Influenza',\n",
       " 'Acute, uncomplicated Malaria',\n",
       " 'Adams-Stokes Syndrome',\n",
       " 'Adenocarcinoma of the Ovaries',\n",
       " 'Adhesive capsulitis shoulder',\n",
       " 'Advanced Alibert-Bazin syndrome',\n",
       " 'Advanced Bladder cancer',\n",
       " 'Advanced Breast Cancer',\n",
       " 'Advanced Carcinoid tumor',\n",
       " 'Advanced Colorectal Cancer',\n",
       " 'Advanced Endometrial Cancer',\n",
       " 'Advanced Esophageal Cancers',\n",
       " 'Advanced Gastric Cancer',\n",
       " 'Advanced Gastrointestinal Stromal Tumor (GIST)',\n",
       " 'Advanced Head and Neck Squamous Cell Carcinoma',\n",
       " 'Advanced Hormone-dependent prostate cancer',\n",
       " 'Advanced Melanoma',\n",
       " 'Advanced Non Small Cell Lung Cancer',\n",
       " 'Advanced Ovarian Cancer',\n",
       " 'Advanced Pancreatic Cancer',\n",
       " 'Advanced Pancreatic neuroendocrine tumor',\n",
       " 'Advanced Prostate Cancer',\n",
       " 'Advanced Prostate Carcinoma',\n",
       " 'Advanced RET-fusion thyroid cancer',\n",
       " 'Advanced RET-mutant medullary thyroid cancer',\n",
       " 'Advanced Renal Cell Cancer',\n",
       " 'Advanced Renal Cell Carcinoma',\n",
       " 'Advanced Soft Tissue Sarcoma',\n",
       " 'Advanced Testicular cancer',\n",
       " 'Advanced Thyroid cancer',\n",
       " 'Advanced androgen dependent Prostate cancer',\n",
       " 'Advanced carcinoma of the prostate',\n",
       " 'Advanced deleterious germline or somatic BRCA-mutated advanced epithelial ovarian cancer',\n",
       " 'Advanced deleterious germline or somatic BRCA-mutated fallopian tube cancer',\n",
       " 'Advanced deleterious germline or somatic BRCA-mutated peritoneal cancer',\n",
       " 'Advanced dopaminomimetic psychosis',\n",
       " 'Advanced gastro-esophageal junction adenocarcinoma',\n",
       " 'Advanced non-Hodgkin lymphoma',\n",
       " 'Advanced squamous cell carcinoma of the head and neck',\n",
       " 'Advanced thymic carcinoma',\n",
       " 'Advanced uterine sarcoma',\n",
       " 'Aggressive Lymphoma',\n",
       " 'Agitated psychotic state',\n",
       " 'Agitation',\n",
       " 'Alcohol Dependence',\n",
       " 'Alcohol Withdrawal Delirium',\n",
       " 'Alcohol Withdrawal Syndrome(AWS)',\n",
       " 'Allergic Bronchopulmonary Aspergillosis',\n",
       " 'Allergic Conditions',\n",
       " 'Allergic Contact Dermatitis',\n",
       " 'Allergic Dermatologic Disorders',\n",
       " 'Allergic Disorder',\n",
       " 'Allergic Reactions',\n",
       " 'Allergic Rhinitis (AR)',\n",
       " 'Allergic corneal marginal ulcers',\n",
       " 'Allergies',\n",
       " 'Alopecia Areata (AA)',\n",
       " 'Amebiasis',\n",
       " 'Amenorrhea',\n",
       " 'American rattlesnake envenomation',\n",
       " 'Amoebiasis',\n",
       " 'Anaerobic Infection',\n",
       " 'Anal Fissures',\n",
       " 'Anal candidiasis',\n",
       " 'Anal chlamydia infection',\n",
       " 'Anaphylaxis',\n",
       " 'Ancylostoma caninum infection',\n",
       " 'Ancylostoma duodenale infection',\n",
       " 'Androgen-dependent tumor Advanced Prostate Carcinoma',\n",
       " 'Androgenetic Alopecia',\n",
       " 'Anemia',\n",
       " 'Anemia caused by Zidovudine',\n",
       " 'Anemia, Pernicious',\n",
       " 'Anesthetic complication pulmonary',\n",
       " 'Angina Pectoris',\n",
       " 'Angina attack',\n",
       " 'Anginal Pain',\n",
       " 'Angioedema',\n",
       " 'Angioneurotic Edema',\n",
       " 'Animal bite',\n",
       " 'Ankylosing Spondylitis (AS)',\n",
       " 'Anorexia',\n",
       " 'Anorexia Nervosa (AN)',\n",
       " 'Anovulatory cycle',\n",
       " 'Anterior Segment Inflammation',\n",
       " 'Anterior Uveitis (AU)',\n",
       " 'Anthrax',\n",
       " 'Anticholinesterase overdose',\n",
       " 'Anxiety',\n",
       " 'Apprehension',\n",
       " 'Ariboflavinosis',\n",
       " 'Arrhythmia',\n",
       " 'Arrhythmia of ventricular origin',\n",
       " 'Arsenic Poisoning',\n",
       " 'Arteriosclerotic Parkinsonism',\n",
       " 'Arthritis',\n",
       " 'Arthritis gonococcal',\n",
       " 'Ascariasis',\n",
       " 'Ascaris lumbricoides infection',\n",
       " 'Aspergillosis',\n",
       " 'Aspiration Pneumonitis',\n",
       " 'Asthma',\n",
       " 'Astrocytomas',\n",
       " 'Asymptomatic Neisseria meningitidis carrier of the nasopharynx',\n",
       " 'Asymptomatic Trichomoniasis',\n",
       " 'Asymptomatic, metastatic hormone-refractory Prostate cancer',\n",
       " 'Atherosclerotic Cardiovascular Diseases',\n",
       " 'Atopic Dermatitis (AD)',\n",
       " 'Atrial Fibrillation (AF)',\n",
       " 'Atrioventricular Heart Block',\n",
       " 'Atrophic Vaginitis',\n",
       " 'Atrophy of vulva',\n",
       " 'Attention Deficit Hyperactivity Disorder (ADHD)',\n",
       " 'Atypical Depressive disorder',\n",
       " 'Autoimmune Hemolytic Anemia',\n",
       " 'B-Cell Chronic Lymphocytic Leukemia',\n",
       " 'B-Lymphocytic, prolymphocytic leukemia (Kiel Classification) refractory',\n",
       " 'B-cell chronic lymphocytic leukemia/prolymphocytic leukemia/small lymphocytic lymphoma refractory',\n",
       " 'B-large cell anaplastic Lymphoma (Kiel Classification) refractory',\n",
       " 'BMI >30 kg/m2',\n",
       " 'Babesiosis',\n",
       " 'Back Pain Lower Back Chronic',\n",
       " 'Backache',\n",
       " 'Bacteremia',\n",
       " 'Bacteremia caused by Enterobacter aerogenes',\n",
       " 'Bacterial Conjunctivitis',\n",
       " 'Bacterial Conjunctivitis caused by susceptible bacteria',\n",
       " 'Bacterial Endocarditis',\n",
       " 'Bacterial Infection Due to Helicobacter Pylori (H. Pylori)',\n",
       " 'Bacterial Infection caused by Acinetobacter species',\n",
       " 'Bacterial Infection caused by E. coli',\n",
       " 'Bacterial Infection caused by Enterobacter aerogenes',\n",
       " 'Bacterial Infection caused by Klebsiella Pneumoniae',\n",
       " 'Bacterial Infection caused by Proteus species',\n",
       " 'Bacterial Infection caused by Serratia marcescens',\n",
       " 'Bacterial Infections',\n",
       " 'Bacterial Sepsis',\n",
       " 'Bacterial Sinusitis',\n",
       " 'Bacterial Urinary Tract Infections',\n",
       " 'Bacterial Vaginosis (BV)',\n",
       " 'Bacterial blepharitis',\n",
       " 'Bacterial corneal ulcers',\n",
       " 'Bacterial dacryocystitis',\n",
       " 'Bacterial otitis media caused by Haemophilus influenzae',\n",
       " 'Bacterial rhinosinusitis',\n",
       " 'Bacterial skin and skin structure infections',\n",
       " 'Bacterial upper respiratory tract infections',\n",
       " 'Balantidiasis',\n",
       " 'Barbiturate withdrawal',\n",
       " 'Barium poisoning',\n",
       " 'Bartonellosis',\n",
       " 'Basal Cell Carcinoma (BCC)',\n",
       " \"Bell's Palsy\",\n",
       " 'Benign Prostatic Hyperplasia (BPH)',\n",
       " 'Benign Prostatic Hypertrophy',\n",
       " 'Benign facial lentigines',\n",
       " 'Benign gastric ulcers',\n",
       " 'Benign skin lesions',\n",
       " 'Benzodiazepine Withdrawal',\n",
       " 'Beriberi',\n",
       " 'Berylliosis',\n",
       " 'Beta blocker overdose',\n",
       " 'Biliary Colic',\n",
       " 'Biliary tract infection bacterial',\n",
       " 'Binge Eating Disorder (BED)',\n",
       " 'Bipolar Affective Disorders',\n",
       " 'Bipolar Disorder (BD)',\n",
       " 'Bladder Outlet Obstruction',\n",
       " 'Bladder Spasms',\n",
       " 'Bladder transitional cell carcinoma',\n",
       " 'Blast phase Chronic myelocytic leukemia',\n",
       " 'Blastic Plasmacytoid Dendritic Cell Neoplasm (BPDCN)',\n",
       " 'Blastomycosis',\n",
       " 'Bleeding',\n",
       " 'Bleeding caused by Factor X Deficiency',\n",
       " 'Bleeding caused by Hemophilia A',\n",
       " 'Bleeding caused by Hemophilia B',\n",
       " 'Blepharoconjunctivitis',\n",
       " 'Blistering disorder',\n",
       " 'Bloating',\n",
       " 'Blood lead levels above 45 mcg/dL Lead poisoning',\n",
       " 'Blood pressure >185/110 mm Hg arterial hypertension',\n",
       " 'Bloodstream Infections',\n",
       " 'Bloodstream Infections caused by Anaerobic Bacterial Infection',\n",
       " 'Bone Infection',\n",
       " 'Bone Metastases',\n",
       " 'Bone and Joint Infections',\n",
       " 'Bone and Joint Infections caused by susceptible Staphylococcus',\n",
       " 'Botulism',\n",
       " 'Brain Stem Gliomas',\n",
       " 'Brain abscess',\n",
       " 'Breast Adenocarcinoma',\n",
       " 'Breast Cancer',\n",
       " 'Breast Cancer Stage II',\n",
       " 'Breast Cancer Stage III',\n",
       " 'Breast engorgement caused by Postpartum state',\n",
       " 'Bronchial Asthma',\n",
       " 'Bronchial congestion',\n",
       " 'Bronchiolitis obliterans organizing pneumonia',\n",
       " 'Bronchoconstriction',\n",
       " 'Bronchopulmonary Dysplasia (BPD)',\n",
       " 'Bronchospasm',\n",
       " 'Brucellosis',\n",
       " 'Bruises',\n",
       " 'Bulimia Nervosa',\n",
       " 'Bullous Systemic Lupus Erythematosus',\n",
       " 'Bullous dermatitis',\n",
       " 'Bullous dermatitis herpetiformis',\n",
       " \"Burkitt's Lymphoma\",\n",
       " 'Burned',\n",
       " 'Bursitis',\n",
       " 'CKit mutational status unknown Aggressive systemic mastocytosis',\n",
       " 'CMV colitis',\n",
       " 'CNS Infection',\n",
       " 'CNS ventriculitis',\n",
       " 'Cachexia',\n",
       " 'Calcium channel blocker overdose',\n",
       " 'Calcium oxalate calculi Renal Calculi',\n",
       " 'Campylobacter fetus',\n",
       " 'Cancer, Bladder',\n",
       " 'Candida intertrigo',\n",
       " 'Candida pneumonia',\n",
       " 'Candidal cystitis',\n",
       " 'Candidemia',\n",
       " 'Candidiasis, Cutaneous',\n",
       " 'Candidiasis, Systemic',\n",
       " 'Canker sores oral',\n",
       " 'Capecitabine overdose',\n",
       " 'Capillariasis',\n",
       " 'Carcinoma in situ of the urinary bladder',\n",
       " 'Carcinoma in situ of urinary bladder',\n",
       " 'Carcinoma, Bronchogenic',\n",
       " 'Cardiac Arrest (CA)',\n",
       " 'Cardiac electrical storm',\n",
       " 'Cardiomyopathy',\n",
       " 'Cardiovascular Heart Disease caused by Thiamine Deficiency',\n",
       " 'Cardiovascular Mortality',\n",
       " 'Cardiovascular Risk Reduction',\n",
       " 'Carnitine Deficiency',\n",
       " 'Cartilage Damage',\n",
       " 'Castration resistant, metastatic Prostate cancer',\n",
       " 'Cataplexy',\n",
       " 'Catatonia',\n",
       " 'Catheter Related Infections',\n",
       " 'Catheter-related Bloodstream Infection (CRBSI) NOS',\n",
       " 'Cellulitis',\n",
       " 'Cellulitis caused by susceptible bacteria',\n",
       " 'Central Nervous System Infections',\n",
       " 'Central Precocious Puberty (CPP)',\n",
       " 'Cerebral Arteriosclerosis',\n",
       " 'Cerumen impaction',\n",
       " 'Cervical Cancers',\n",
       " 'Cervicitis',\n",
       " 'Cestode infections',\n",
       " \"Chagas' Disease caused by Typanosoma cruzi\",\n",
       " 'Chancroid',\n",
       " 'Chapped skin',\n",
       " 'Cheilitis',\n",
       " 'Chemotherapy-Induced Nausea and Vomiting (CINV)',\n",
       " 'Chest congestion',\n",
       " 'Chickenpox',\n",
       " 'Chlamydia Trachomatis',\n",
       " 'Chlamydia Trachomatis Infection',\n",
       " 'Chlamydial Infections',\n",
       " 'Chlamydial Urethritis',\n",
       " 'Chlamydial cervicitis',\n",
       " 'Chlamydial ophthalmia neonatorum',\n",
       " 'Cholera',\n",
       " 'Cholestatic pruritus',\n",
       " 'Chordomas',\n",
       " 'Chorea',\n",
       " 'Choriocarcinoma',\n",
       " 'Chorioretinitis',\n",
       " 'Choroiditis',\n",
       " 'Chromomycosis',\n",
       " 'Chronic Anal Fissures',\n",
       " 'Chronic Atrial Fibrillation',\n",
       " 'Chronic Bacterial prostatitis caused by susceptible bacteria',\n",
       " 'Chronic Bone and Joint Infections caused by Susceptible infections',\n",
       " 'Chronic Chronic myelogenous leukemia',\n",
       " 'Chronic Constipation',\n",
       " 'Chronic Eczema of the hand',\n",
       " 'Chronic Eosinophilic Leukemia (CEL)',\n",
       " 'Chronic Functional Diarrhea',\n",
       " 'Chronic Graft Versus Host Disease',\n",
       " 'Chronic Idiopathic Urticaria',\n",
       " 'Chronic Intestinal amebiasis',\n",
       " 'Chronic Iron Overload',\n",
       " 'Chronic Lymphocytic Leukaemia (CLL)',\n",
       " 'Chronic Lymphocytic Leukemia (CLL) - Refractory',\n",
       " 'Chronic Mucocutaneous Candidiasis (CMC)',\n",
       " 'Chronic Myeloid Leukemia (CML)',\n",
       " 'Chronic Myelomonocytic Leukemia',\n",
       " 'Chronic Obstructive Airways Disease Exacerbated',\n",
       " 'Chronic Obstructive Pulmonary Disease (COPD)',\n",
       " 'Chronic Phase Chronic Myeloid Leukemia',\n",
       " 'Chronic Prostatitis caused by Escherichia coli',\n",
       " 'Chronic Prostatitis caused by Proteus mirabilis',\n",
       " 'Chronic Rhinosinusitis',\n",
       " 'Chronic Stable Angina Pectoris',\n",
       " 'Chronic Urticaria',\n",
       " 'Chronic aluminum overload',\n",
       " 'Chronic aphakic cystoid macular edema',\n",
       " 'Chronic eczematous otitis externa',\n",
       " 'Chronic idiopathic constipation (CIC)',\n",
       " 'Chronic immune thrombocytopenia',\n",
       " 'Chronic suppurative Otitis media',\n",
       " 'Chronic transplant rejection',\n",
       " 'Chronic urea-splitting urinary infection',\n",
       " 'Chronic, recurrent Urinary Tract Infection caused by Klebsiella Enterobacter, Staphylococcus, Proteus mirabilis, Proteus vulgaris, Escherichia Coli',\n",
       " 'Chronic, refractory Gout',\n",
       " 'Chronic, refractory Myeloid Leukemia',\n",
       " 'Chronic, stable, symptomatic Heart Failure',\n",
       " 'Circulatory collapse and shock',\n",
       " \"Classical Hodgkin's Lymphoma\",\n",
       " 'Clinically Isolated Syndrome (CIS)',\n",
       " 'Clostridia infections',\n",
       " 'Clostridium Difficile Infection (CDI)',\n",
       " 'Clostridium Difficile-Associated Diarrhea (CDAD)',\n",
       " 'Clostridium Infections',\n",
       " 'Clostridium difficile infection recurrence',\n",
       " 'Cluster Headache',\n",
       " 'Coagulopathy, Consumption',\n",
       " 'Coccidioidal meningitis',\n",
       " 'Coccidioidomycosis',\n",
       " 'Cold Sore',\n",
       " 'Cold urticaria',\n",
       " 'Colic',\n",
       " 'Colon Cancer Stage III',\n",
       " 'Colorectal Cancers',\n",
       " 'Community Acquired Bacterial Pneumonia',\n",
       " 'Community Acquired Pneumonia (CAP)',\n",
       " 'Community Acquired Pneumonia (CAP) caused by susceptible bacteria',\n",
       " 'Community acquired pneumonia caused by Streptococcus Pneumoniae, Haemophilus Influenzae, Methicillin-Sensitive Staphylococcus Aureus Infection, Legionella Pneumophila Infections, Mycoplasma pneumoniae infection, Chlamydophila Pneumoniae Infections',\n",
       " 'Community acquired pneumonia caused by Susceptible strains of Streptococcus pneumoniae',\n",
       " 'Community aquired pneumonia caused by H. parainfluenzae',\n",
       " 'Community aquired pneumonia caused by M.catarrhalis',\n",
       " 'Complete Heart Block',\n",
       " 'Completely obstructive Non-small cell lung cancer',\n",
       " 'Complex Partial Seizures',\n",
       " 'Complicated Bacterial Urinary Tract Infections',\n",
       " 'Complicated Intra-Abdominal Infections',\n",
       " 'Complicated Pyelonephritis caused by Escherichia coli',\n",
       " 'Complicated Respiratory tract infection bacterial',\n",
       " 'Complicated Skin and subcutaneous tissue bacterial infection',\n",
       " 'Complicated Skin or Skin Structure Infection',\n",
       " 'Complicated Urinary Tract Infection',\n",
       " 'Complicated Urinary Tract Infection caused by Escherichia Coli',\n",
       " 'Complicated Urinary Tract Infection caused by susceptible bacteria',\n",
       " 'Complicated skin and skin-structure infections caused by susceptible bacteria',\n",
       " 'Complicated skin infection bacterial',\n",
       " 'Conditions where a reduction of gastric acid secretion is required',\n",
       " 'Condylomata Acuminata',\n",
       " 'Congenital Adrenal Hyperplasia (CAH)',\n",
       " 'Congenital Hypoplastic Anemia',\n",
       " 'Congenital carnitine deficiency',\n",
       " 'Congestive Heart Failure (CHF)',\n",
       " 'Conjunctivitis',\n",
       " 'Conjunctivitis allergic',\n",
       " 'Conjunctivitis caused by Haemophilus influenzae',\n",
       " 'Conjunctivitis caused by Staphylococcus epidermidis',\n",
       " 'Conjunctivitis caused by chlamydia',\n",
       " 'Conjunctivitis infective',\n",
       " 'Conjunctivitis, Inclusion',\n",
       " 'Conjunctivitis, Seasonal Allergic',\n",
       " 'Conjunctivitis, Vernal',\n",
       " 'Connective Tissue Disorders',\n",
       " 'Constipation',\n",
       " 'Constipation-predominant Irritable Bowel Syndrome (IBS-C)',\n",
       " 'Contact dermatitis and other eczema',\n",
       " 'Corneal Abrasions',\n",
       " 'Corneal Edema',\n",
       " 'Corneal Erosions',\n",
       " 'Corneal Inflammation',\n",
       " 'Corneal Ulcers caused by Serratia marcescens',\n",
       " 'Corneal Ulcers caused by Staphylococcus aureus',\n",
       " 'Corneal Ulcers caused by Staphylococcus epidermidis',\n",
       " 'Corneal Ulcers caused by Streptococcus Pneumoniae',\n",
       " 'Corneal Ulcers caused by Streptococcus Viridans Group',\n",
       " 'Corneal Ulcers caused by pseudomonas aeruginosa',\n",
       " 'Corneal cystine crystal accumulation',\n",
       " 'Corns',\n",
       " 'Coronary Artery Atherosclerosis',\n",
       " 'Coronary Artery Disease (CAD)',\n",
       " 'Coronary Occlusions',\n",
       " 'Corticosteroid responsive Dermatosis',\n",
       " 'Corticosteroid responsive, Inflammatory Dermatosis',\n",
       " 'Corticosteroid responsive, pruritic Dermatosis',\n",
       " 'Cough caused by Allergic Rhinitis',\n",
       " 'Cough caused by Common Cold',\n",
       " 'Coughing',\n",
       " 'Crab lice',\n",
       " \"Crohn's Disease (CD)\",\n",
       " 'Cryptococcal infections',\n",
       " 'Cryptosporidiosis infection',\n",
       " \"Cushing's Disease\",\n",
       " \"Cushing's Syndrome\",\n",
       " 'Cutaneous Abscess',\n",
       " 'Cutaneous Melanoma',\n",
       " 'Cutaneous T-Cell Lymphoma (CTCL)',\n",
       " 'Cutaneous candidiasis caused by candida spp.',\n",
       " 'Cutaneous candidiasis infection',\n",
       " 'Cutaneous larva migrans',\n",
       " 'Cutaneous lesions',\n",
       " 'Cutaneous ulcers',\n",
       " 'Cyclic Vomiting Syndrome',\n",
       " 'Cyclitis',\n",
       " 'Cystic fibrosis, Pseudomonas aeruginosa infection',\n",
       " 'Cystic tumors of aponeurosis',\n",
       " 'Cystic tumors of tendon',\n",
       " 'Cysticercosis',\n",
       " 'Cystitis',\n",
       " 'Cystitis interstitial',\n",
       " 'Cystoid Macular Edema',\n",
       " 'Cytokine Release Syndrome caused by CAR-T Cell Therapy',\n",
       " 'Cytomegalovirus Retinitis',\n",
       " 'Cytomegalovirus gastroesophagitis',\n",
       " 'Cytomegalovirus neurological disease',\n",
       " 'Dandruff',\n",
       " 'Dark circles under eyes',\n",
       " 'Daytime Sleepiness',\n",
       " 'Decreased appetite caused by Chronic disease',\n",
       " 'Deep Vein Thrombosis',\n",
       " 'Deep Venous Thrombosis',\n",
       " 'Deficiency, Vitamin A',\n",
       " 'Dehydration',\n",
       " 'Delirium',\n",
       " 'Delusional Parasitosis',\n",
       " 'Dementia, Vascular',\n",
       " 'Dementias',\n",
       " 'Demodicidosis',\n",
       " 'Dental Pain',\n",
       " 'Depression',\n",
       " 'Depression, Endogenous',\n",
       " 'Depression, Involutional',\n",
       " 'Depression, Reactive',\n",
       " 'Depressive illness',\n",
       " 'Dermabrasion',\n",
       " 'Dermatitis exfoliative generalised',\n",
       " 'Dermatitis infected',\n",
       " 'Dermatitis, Chronic',\n",
       " 'Dermatitis, Contact',\n",
       " 'Dermatitis, Eczematous',\n",
       " 'Dermatographic urticaria',\n",
       " 'Dermatographism',\n",
       " 'Dermatologic Disease',\n",
       " 'Dermatological Disease',\n",
       " 'Dermatomycoses',\n",
       " 'Dermatomyositis',\n",
       " 'Dermatophytosis',\n",
       " 'Dermatosis',\n",
       " 'Dermo-hypodermitis',\n",
       " 'Dermographism',\n",
       " 'Desmoid Tumors',\n",
       " 'Detrusor Hyperreflexia',\n",
       " 'Diabetes Insipidus',\n",
       " 'Diabetes Mellitus',\n",
       " 'Diabetic Foot Ulcers (DFU)',\n",
       " 'Diabetic Gastroparesis',\n",
       " 'Diabetic Macular Edema (DME)',\n",
       " 'Diabetic Neuropathies',\n",
       " 'Diaper Dermatitis',\n",
       " 'Diaper Rash',\n",
       " 'Diarrhea',\n",
       " 'Diarrhea caused by Cryptosporidium parvum',\n",
       " 'Diarrhea caused by Giardia lamblia',\n",
       " 'Dientamoeba fragilis infection',\n",
       " 'Digestion',\n",
       " 'Digoxin toxicity',\n",
       " 'Diphtheria',\n",
       " 'Discoid Lupus Erythematosus (DLE)',\n",
       " 'Discomfort',\n",
       " 'Disseminated Candidiasis',\n",
       " 'Disseminated Cryptococcosis',\n",
       " 'Disseminated Intravascular Coagulation (DIC)',\n",
       " 'Disseminated Neuroblastoma',\n",
       " 'Disseminated Neurodermatitis',\n",
       " 'Disseminated Other specified protozoal diseases',\n",
       " 'Disseminated Sclerosis',\n",
       " 'Disseminated mucormycosis',\n",
       " 'Disturbed sleep/nightmares',\n",
       " 'Drug Withdrawal Headache',\n",
       " 'Drug hypersensitivity reaction',\n",
       " 'Drug-induced Respiratory depression',\n",
       " 'Drug-induced edema',\n",
       " 'Dry Eye',\n",
       " 'Dry Eye Syndrome (DES)',\n",
       " 'Dry Mouth',\n",
       " 'Dryness of the skin',\n",
       " \"Duchenne's Muscular Dystrophy (DMD)\",\n",
       " \"Duke's C Colon cancer\",\n",
       " 'Duodenal Ulcer',\n",
       " 'Dysbetalipoproteinemia',\n",
       " 'Dyshidrosis',\n",
       " 'Dyslipidemia (Fredrickson Type Ⅱa)',\n",
       " 'Dysthymic Disorder',\n",
       " 'Ear, nose, and throat infections',\n",
       " 'Early Breast Cancer',\n",
       " \"Early Kaposi's sarcoma\",\n",
       " 'Eating Disorders Symptoms',\n",
       " 'Ecthyma',\n",
       " 'Eczema Vaccinatum',\n",
       " 'Eczema, Dermatitis',\n",
       " 'Eczematous dermatitis infected',\n",
       " 'Edema',\n",
       " 'Edema of the cerebrum',\n",
       " 'Elevated serum creatinine',\n",
       " 'Elevation of serum triglyceride levels',\n",
       " 'Empyema',\n",
       " 'Empyema caused by Anaerobic Bacterial Infection',\n",
       " 'Encephalitis, Herpes Simplex',\n",
       " 'Endocarditis',\n",
       " 'Endocarditis caused by Erysipelothrix infections',\n",
       " 'Endocarditis caused by staphylococcus aureus',\n",
       " 'Endocarditis, Subacute Bacterial',\n",
       " 'Endocrine Disorders',\n",
       " \"Endogenous Cushing's Syndrome\",\n",
       " 'Endometrial Cancer',\n",
       " 'Endometrial Hyperplasia',\n",
       " 'Endometriosis',\n",
       " 'Endometriosis related pain',\n",
       " 'Endometritis',\n",
       " 'Endometritis caused by Anaerobic Bacterial Infection',\n",
       " 'Endomyometritis',\n",
       " 'Endophthalmitis',\n",
       " 'Entamoeba histolytica',\n",
       " 'Entamoebic histolytica infection',\n",
       " 'Enterobius vermicularis infection',\n",
       " 'Enterocolitis caused by Staphylococcus aureus',\n",
       " 'Enuresis',\n",
       " 'Ependymomas',\n",
       " 'Epicondylitis',\n",
       " 'Epididymitis',\n",
       " 'Epididymo-orchitis gonococcal',\n",
       " 'Epiglottitis',\n",
       " 'Epilepsies',\n",
       " 'Epinephrine Sensitivity',\n",
       " 'Episcleritis',\n",
       " 'Episodic Cluster Headache',\n",
       " 'Erosive Esophagitis (EE)',\n",
       " 'Erysipelas',\n",
       " 'Erysipeloid',\n",
       " 'Erythema Chronicum Migrans',\n",
       " 'Erythrasma',\n",
       " 'Erythroblastopenia',\n",
       " 'Erythrodermics',\n",
       " 'Escherichia infections',\n",
       " 'Escherichia urinary tract infection',\n",
       " 'Esophageal Cancers',\n",
       " 'Esophageal Candidiasis',\n",
       " 'Esophagitis',\n",
       " 'Esophagus, Barrett',\n",
       " 'Essential Thrombocythemia (ET)',\n",
       " 'Ethylene glycol overdose',\n",
       " 'Ethylene glycol poisoning',\n",
       " 'Euvolemic Hyponatremia',\n",
       " \"Ewing's Sarcoma (ES)\",\n",
       " 'Exacerbation of asthma',\n",
       " 'Excessive Daytime Sleepiness',\n",
       " 'Exfoliative erythroderma',\n",
       " 'Exocrine Pancreatic Insufficiency',\n",
       " 'Exogenous depression',\n",
       " 'External Genital Warts',\n",
       " 'Extra-pyramidal symptoms',\n",
       " 'Extraintestinal Amebiasis',\n",
       " 'Extrapyramidal disorder caused by neuroleptic drugs without Tardive dyskinesia',\n",
       " 'Eye Infections',\n",
       " 'Eye Pain',\n",
       " 'Eye discomfort',\n",
       " 'Eye inflammation',\n",
       " 'Eye pruritus',\n",
       " 'Eye redness',\n",
       " 'FAB classification M3 Acute promyelocytic leukemia',\n",
       " 'FIP1L1-PDGFRα fusion kinase status unknown Chronic eosinophilic leukemia',\n",
       " 'FIP1L1-PDGFRα fusion kinase status unknown Hypereosinophilic syndrome',\n",
       " \"Fabry's Disease\",\n",
       " 'Facial erythema',\n",
       " 'Facial fine wrinkling',\n",
       " 'Facial hyperpigmentation',\n",
       " 'Facial hypopigmentation',\n",
       " 'Fallopian Tube Cancer',\n",
       " 'Familial Mediterranean Fever (FMF )',\n",
       " 'Familial periodic paralysis',\n",
       " 'Fascioliasis',\n",
       " 'Fat occlusion in central venous catheter',\n",
       " 'Fatigue',\n",
       " 'Febrile Convulsions',\n",
       " 'Female castration',\n",
       " 'Fever',\n",
       " 'Fever blister',\n",
       " 'Fibrocystic Disease of Breast',\n",
       " 'Fibromyalgia',\n",
       " 'Filariasis',\n",
       " 'First-degree burn',\n",
       " 'Flatulence',\n",
       " 'Flexor spasm',\n",
       " 'Flu Symptoms',\n",
       " 'Flu caused by Influenza',\n",
       " 'Fluorouracil overdose',\n",
       " 'Folic acid antagonist overdose',\n",
       " \"Follicular Non-Hodgkin's Lymphoma\",\n",
       " \"Follicular Non-Hodgkin's Lymphoma Refractory\",\n",
       " 'Folliculitis',\n",
       " 'Functional bowel syndrome',\n",
       " 'Functional disorders of the biliary tract',\n",
       " 'Fungal Keratitis',\n",
       " 'Fungal blepharitis',\n",
       " 'Fungal conjunctivitis',\n",
       " 'Fungal endocarditis',\n",
       " 'Fungal endophthalmitis',\n",
       " 'Fungal infection of the dermal',\n",
       " 'Fungal meningitis caused by Exserohilum Infection',\n",
       " 'Fungal osteoarticular infections',\n",
       " 'Fungal peritonitis caused by Candida',\n",
       " 'Furuncle caused by susceptible bacteria',\n",
       " 'Furunculosis',\n",
       " 'Fusospirochetosis',\n",
       " 'GERD With Erosive Esophagitis',\n",
       " 'Gallstone formation',\n",
       " 'Gas Gangrene',\n",
       " 'Gastric Carcinoma',\n",
       " 'Gastric Ulcer',\n",
       " 'Gastric acid deficiency',\n",
       " 'Gastric bezoar',\n",
       " 'Gastritis',\n",
       " 'Gastro-esophageal Reflux Disease (GERD)',\n",
       " 'Gastroenteropancreatic Neuroendocrine Tumors',\n",
       " 'Gastroesophageal Reflux',\n",
       " 'Gastrointestinal Bleeding',\n",
       " 'Gastrointestinal Discomfort',\n",
       " 'Gastrointestinal Diseases',\n",
       " 'Gastrointestinal Infections',\n",
       " 'Gastrointestinal Stromal Tumors',\n",
       " 'Gastroparesis',\n",
       " \"Gaucher's Disease Type 1\",\n",
       " 'General Anesthesia Induced Hypotension',\n",
       " 'Generalised muscle aches',\n",
       " 'Generalized Anxiety Disorder (GAD)',\n",
       " 'Generalized Myasthenia Gravis',\n",
       " 'Generalized Tonic Clonic Seizures',\n",
       " 'Generalized joint pain',\n",
       " 'Generalized seizure',\n",
       " 'Generalized vaccinia',\n",
       " 'Genital Herpes',\n",
       " 'Genital Ulcer Disease (GUD)',\n",
       " 'Genital erythema',\n",
       " 'Genital herpes, initial episode',\n",
       " 'Genital infection',\n",
       " 'Genital pruritus',\n",
       " 'Genitourinary infections',\n",
       " 'Genitourinary tract infection',\n",
       " 'Gestational Trophoblastic Disease',\n",
       " 'Giant Cell Arteritis (GCA)',\n",
       " 'Giant cell tumor of the bone',\n",
       " 'Giant follicular lymphoma',\n",
       " 'Giardiasis',\n",
       " \"Gilles de la Tourette's Syndrome\",\n",
       " 'Gingivitis',\n",
       " 'Gingivitis, Necrotizing Ulcerative',\n",
       " 'Gingivostomatitis',\n",
       " 'Glioblastoma Multiforme (GBM)',\n",
       " 'Glioblastomas',\n",
       " 'Glomerulosclerosis, Focal Segmental',\n",
       " 'Gnathostomiasis',\n",
       " 'Gold poisoning',\n",
       " 'Gonadotrophin releasing hormone deficiency',\n",
       " 'Gonococcal arthritis',\n",
       " 'Gonococcal cervicitis',\n",
       " 'Gonococcal infection of pharynx',\n",
       " 'Gonococcal infections',\n",
       " 'Gonococcal pelvic inflammatory disease',\n",
       " 'Gonorrhea',\n",
       " 'Gonorrhea of anus',\n",
       " 'Gout Flares',\n",
       " 'Gouty Arthritis',\n",
       " 'Graft Versus Host Disease (GVHD)',\n",
       " 'Graft Versus Host Disease, Acute',\n",
       " 'Gram Negative Infection',\n",
       " 'Gram-negative enteric bacilli neonatal sepsis',\n",
       " 'Gram-negative infections Bacterial Infections',\n",
       " 'Grand mal Generalized tonic-clonic seizure',\n",
       " 'Granuloma Inguinale',\n",
       " 'Granulomatosis With Polyangiitis',\n",
       " 'Growth Hormone Gene Deletion',\n",
       " 'Gynaecological infection',\n",
       " 'Gynecomastia',\n",
       " 'HER2 Positive Breast Cancers',\n",
       " 'Haematological disorders',\n",
       " 'Hairy Cell Leukemia (HCL)',\n",
       " \"Hansen's Disease\",\n",
       " 'Haverhill fever',\n",
       " 'Head and Neck Carcinoma',\n",
       " 'Headache',\n",
       " 'Heart Block',\n",
       " 'Heart Failure',\n",
       " 'Heart Transplant Rejection',\n",
       " 'Heart failure, mild',\n",
       " 'Heart failure, moderate',\n",
       " 'Heartburn',\n",
       " 'Hemangiomas',\n",
       " 'Hemangiosarcoma',\n",
       " 'Hemmorhoids',\n",
       " 'Hemophilia A',\n",
       " 'Hemorrhage',\n",
       " 'Hemorrhagic disease of the newborn',\n",
       " 'Hemorrhoids',\n",
       " 'Heparin overdose',\n",
       " 'Hepatic Encephalopathy (HE)',\n",
       " 'Hepatic abscess',\n",
       " 'Hepatic coma',\n",
       " 'Hepatitis B Chronic Infection',\n",
       " 'Hepatitis, Autoimmune',\n",
       " 'Hepatocellular,Carcinoma',\n",
       " 'Hereditary Retinal Dystrophy',\n",
       " 'Hereditary transthyretin-mediated amyloidosis',\n",
       " 'Herpes Labialis',\n",
       " 'Herpes Simplex Infection',\n",
       " 'Herpes Simplex Virus',\n",
       " 'Herpes Zoster',\n",
       " 'Herpes simplex of the genitals',\n",
       " 'Herpes simplex of the oral-labial',\n",
       " 'Herpetic whitlow',\n",
       " 'Heterotropic ossification',\n",
       " 'Heterozygous Familial Hypercholesterolemia',\n",
       " 'Heterozygous Familial Hypercholesterolemia (HeFH)',\n",
       " 'Hiccups',\n",
       " 'High Blood Pressure (Hypertension)',\n",
       " 'High Cholesterol',\n",
       " 'High grade newly diagnosed Glioma',\n",
       " 'High risk of fracture Osteoporosis',\n",
       " 'High-grade, nonmetastatic Osteosarcoma',\n",
       " 'Hirsutism',\n",
       " 'Histiocytic lymphoma',\n",
       " 'Histoplasmosis',\n",
       " 'Hives',\n",
       " 'Hodgkins Disease (HD)',\n",
       " 'Homozygous Familial Hypercholesterolemia',\n",
       " 'Hookworm Infection',\n",
       " 'Hormone refractory, advanced Prostate cancer',\n",
       " 'Hospitalization due to cardiac failure',\n",
       " 'Hot Flushes',\n",
       " 'Human Immunodeficiency Virus (HIV) Infections',\n",
       " 'Human Immunodeficiency Virus Type 1 (HIV-1)',\n",
       " 'Human Immunodeficiency Virus Type 1 (HIV-1) Infection',\n",
       " \"Huntington's Disease (HD)\",\n",
       " 'Hydatid disease caused by Echinococcus granulosus',\n",
       " 'Hydatidiform Mole',\n",
       " 'Hyperammonaemia',\n",
       " 'Hyperbilirubinemia',\n",
       " 'Hypercalcemia',\n",
       " 'Hypercalcemia of Malignancy',\n",
       " 'Hypereosinophilic Syndromes',\n",
       " 'Hyperglycemia',\n",
       " 'Hypergonadotropic Hypogonadism',\n",
       " 'Hyperkalemia',\n",
       " 'Hypermenorrhea',\n",
       " 'Hypermobility of the colon',\n",
       " 'Hypermotility disorders of the lower urinary tract',\n",
       " 'Hyperparathyroidism, Secondary',\n",
       " 'Hyperphosphataemia',\n",
       " 'Hypersensitivity Pneumonitis',\n",
       " 'Hypertensive Emergency',\n",
       " 'Hypertensive crisis',\n",
       " 'Hyperthyroidism',\n",
       " 'Hypertonic uterine contraction',\n",
       " 'Hypertonicity of the small intestine',\n",
       " 'Hypertriglyceridemias',\n",
       " 'Hypertryglyceridemia',\n",
       " 'Hyperuricemia',\n",
       " 'Hypervolemic Hyponatremia',\n",
       " 'Hypoactive Sexual Desire Disorder (HSDD)',\n",
       " 'Hypoalbuminemia',\n",
       " 'Hypocalcemia',\n",
       " 'Hypocalcemic tetany',\n",
       " 'Hypochloremic state',\n",
       " 'Hypocitraturic calcium oxalate nephrolithiasis',\n",
       " 'Hypoestrogenism',\n",
       " 'Hypoglycemia',\n",
       " 'Hypogonadism female',\n",
       " 'Hypogonadotrophic Hypogonadism',\n",
       " 'Hypokalemia',\n",
       " 'Hypokalemic Periodic Paralysis',\n",
       " 'Hypomagnesemia',\n",
       " 'Hyponatremia',\n",
       " 'Hypoperfusion',\n",
       " 'Hypophosphatemia',\n",
       " 'Hypophosphatemia, Familial',\n",
       " 'Hypoproteinemia',\n",
       " 'Hypoprothrombinemia',\n",
       " 'Hypotension',\n",
       " 'Hypothyroidism',\n",
       " 'Hypotrichosis of the eyelashes',\n",
       " 'Hypovolaemia',\n",
       " 'Hypoxemia',\n",
       " 'Hypoxia',\n",
       " 'Hypoxic Respiratory Failure',\n",
       " 'Iatrogenically induced mydriasis',\n",
       " 'Idiopathic Anaphylaxis',\n",
       " 'Idiopathic Edema',\n",
       " 'Idiopathic Hyperprolactinemia',\n",
       " 'Idiopathic Hypogonadotropic Hypogonadism',\n",
       " \"Idiopathic Parkinson's Disease\",\n",
       " 'Idiopathic Pulmonary Fibrosis (IPF)',\n",
       " 'Idiopathic Thrombocytopenic Purpura',\n",
       " 'Idiopathic Vitiligo',\n",
       " 'Idiopathic eosinophilic pneumonias',\n",
       " 'Idiopathic hyperprolactinemic disorder',\n",
       " 'Immune Thrombocytopenic Purpura ( ITP )',\n",
       " 'Impetigo',\n",
       " 'Impetigo caused by susceptible bacteria',\n",
       " 'Impetigo contagious',\n",
       " 'In situ BCG-refractory Bladder carcinoma',\n",
       " 'Incompetent accessory saphenous veins',\n",
       " 'Incompetent great saphenous veins',\n",
       " 'Incomplete Abortion',\n",
       " 'Increased intraocular pressure',\n",
       " 'Increased upper airway resistance',\n",
       " 'Infantile Beriberi',\n",
       " 'Infantile Spasms (IS)',\n",
       " 'Infantile-onset Hypophosphatasia',\n",
       " 'Infection',\n",
       " 'Infection Due to Escherichia Coli',\n",
       " 'Infection and inflammatory reaction due to internal prosthetic device, implant, and graft',\n",
       " 'Infection caused by Campylobacter fetus',\n",
       " 'Infection caused by eikenella corrodens',\n",
       " 'Infection caused by staphylococci',\n",
       " 'Infection of the outer ear',\n",
       " 'Infection, Bacteroides',\n",
       " 'Infections caused by penicillinase-producing staphylococci',\n",
       " 'Infections, Fungal',\n",
       " 'Infectious diarrhea',\n",
       " 'Infective Endocarditis',\n",
       " 'Infective pulmonary exacerbation of cystic fibrosis',\n",
       " 'Inflammation caused by corticosteroid-responsive dermatoses',\n",
       " 'Inflammation of Mouth',\n",
       " 'Inflammatory Disease of the Oral Cavity',\n",
       " 'Inflammatory Disease of the throat',\n",
       " 'Inflammatory Reaction',\n",
       " 'Inflammatory disease of the pancreas',\n",
       " 'Inflammatory lesions',\n",
       " 'Inflammatory lesions caused by rosacea',\n",
       " 'Influenza A Virus Infection',\n",
       " 'Influenza B',\n",
       " 'Inhalational Anthrax (Post-Exposure)',\n",
       " 'Inhaled anthrax caused by Bacillus anthracis',\n",
       " 'Inoperable Adrenocortical carcinoma',\n",
       " 'Inoperable Ovarian cancer',\n",
       " 'Inoperable, advanced, metastatic Breast Cancer',\n",
       " 'Inoperable, metastatic Breast cancer',\n",
       " ...]"
      ]
     },
     "execution_count": 264,
     "metadata": {},
     "output_type": "execute_result"
    }
   ],
   "source": [
    "treatment_case = list()\n",
    "for drug in drug_indi_dict:\n",
    "    indications = drug_indi_dict[drug]\n",
    "    treatment_list = [indi['name'] for indi in indications if 'treatment_of' in indi['kind']]\n",
    "    treatment_case += treatment_list\n",
    "treatment_case = set(treatment_case)\n",
    "treatment_case = list(treatment_case)\n",
    "treatment_case.sort()\n",
    "treatment_case"
   ]
  },
  {
   "cell_type": "code",
   "execution_count": 267,
   "metadata": {
    "tags": []
   },
   "outputs": [],
   "source": [
    "PD_drugs = ['Amantadine',\n",
    "            'Apomorphine',\n",
    "            'Benserazide',\n",
    "            'Biperiden',\n",
    "            'Bornaprine',\n",
    "            'Bromocriptine',\n",
    "            'Carbidopa',\n",
    "            'Droxidopa',\n",
    "            'Entacapone',\n",
    "            'Istradefylline',\n",
    "            'Levodopa',\n",
    "            'Melevodopa',\n",
    "            'Opicapone',\n",
    "            'Pergolide',\n",
    "            'Piribedil',\n",
    "            'Pramipexole',\n",
    "            'Quetiapine',\n",
    "            'Rasagiline',\n",
    "            'Ropinirole',\n",
    "            'Rotigotine',\n",
    "            'Safinamide',\n",
    "            'Selegiline'\n",
    "]"
   ]
  },
  {
   "cell_type": "markdown",
   "metadata": {
    "id": "aKYn3VsngCaR"
   },
   "source": [
    "## Run PDOD"
   ]
  },
  {
   "cell_type": "code",
   "execution_count": 44,
   "metadata": {
    "ExecuteTime": {
     "end_time": "2020-11-05T23:58:13.684509Z",
     "start_time": "2020-11-05T23:58:13.679945Z"
    },
    "id": "-XLpIMA1EesD"
   },
   "outputs": [],
   "source": [
    "def Writer(dest_filename, q, some_stop_token):\n",
    "    with open(dest_filename, 'w', newline='') as dest_file:\n",
    "        wr = csv.writer(dest_file)\n",
    "        wr.writerow(\n",
    "            (\"drug name\", \"PDOD score\"))\n",
    "        while not q.empty:\n",
    "            results = q.get()\n",
    "            if results == some_stop_token:\n",
    "                return\n",
    "            else:\n",
    "                wr.writerow(results)\n",
    "\n",
    "def pdod_score_writer(some_queue, drug_name, drug_dict, core_nodes, network):\n",
    "    drug_score = pdod_score(drug_dict[drug_name], core_nodes, network, 3)\n",
    "    print(drug_name, drug_score)\n",
    "    some_queue.put([drug_name, drug_score])"
   ]
  },
  {
   "cell_type": "code",
   "execution_count": 171,
   "metadata": {
    "ExecuteTime": {
     "end_time": "2020-11-05T23:58:35.077272Z",
     "start_time": "2020-11-05T23:58:35.072007Z"
    },
    "id": "y-e3p_Iv23Ht",
    "tags": []
   },
   "outputs": [],
   "source": [
    "def PDOD(result_file, drug_dict, ARN_core_nodes, path_network):\n",
    "    drug_names = [drug for drug in drug_dict.keys()]\n",
    "    manager = multiprocessing.Manager()\n",
    "    queue = manager.Queue()\n",
    "    pool = multiprocessing.Pool(multiprocessing.cpu_count())\n",
    "    STOP_TOKEN = \"STOP\"\n",
    "\n",
    "    # pbar = tqdm(drug_dict.keys())\n",
    "    # def update(*a):\n",
    "    #     pbar.update()\n",
    "\n",
    "    writer_process = pool.apply_async(pdod_func.Writer, (\"Score_result/\"+result_file, queue, STOP_TOKEN))\n",
    "\n",
    "    processes = []\n",
    "    for drug in drug_names:\n",
    "        job = pool.apply_async(pdod_func.pdod_score_writer, args=(queue, drug, drug_dict, ARN_core_nodes, path_network))#, callback=update)\n",
    "        processes.append(job)\n",
    "\n",
    "    # Make sure the jobs are finished\n",
    "    for process in tqdm(processes):\n",
    "        process.get()\n",
    "\n",
    "    queue.put(STOP_TOKEN)\n",
    "    pool.close()\n",
    "    pool.join()\n",
    "    # There, your file was written."
   ]
  },
  {
   "cell_type": "code",
   "execution_count": 46,
   "metadata": {
    "ExecuteTime": {
     "end_time": "2020-11-06T02:22:08.966867Z",
     "start_time": "2020-11-05T23:59:10.927257Z"
    },
    "colab": {
     "referenced_widgets": [
      "dc891d3e5c324ef2b94258f40bd6be65",
      "02a1a5210f3f46b7a9e30c73711508ee"
     ]
    },
    "id": "J37psqfg0jdR",
    "outputId": "3ee0ace8-8ea5-411d-9180-01706349c565",
    "scrolled": true
   },
   "outputs": [
    {
     "data": {
      "application/vnd.jupyter.widget-view+json": {
       "model_id": "fe2aae43f1b3410e8693ed4f34665219",
       "version_major": 2,
       "version_minor": 0
      },
      "text/plain": [
       "  0%|          | 0/7486 [00:00<?, ?it/s]"
      ]
     },
     "metadata": {},
     "output_type": "display_data"
    }
   ],
   "source": [
    "# KL FDR filtered edition\n",
    "PDOD('KL_added_PDOD.csv', drug_dict, KL_added_core_nodes_FDR, filtered_backbone_network)"
   ]
  },
  {
   "cell_type": "code",
   "execution_count": 85,
   "metadata": {},
   "outputs": [],
   "source": [
    "def get_shortest_path_cytoscape(source_gene):\n",
    "    shortest_path_networks = list()\n",
    "    for target in target_genes:\n",
    "        shortest_path_networks += [nx.subgraph(filtered_backbone_network, path) for path in nx.all_shortest_paths(filtered_backbone_network, source=source_gene, target=target)]\n",
    "\n",
    "    shortest_paths = list()\n",
    "    for target in target_genes:\n",
    "        shortest_paths += [path for path in nx.all_shortest_paths(filtered_backbone_network, source=source_gene, target=target)]\n",
    "\n",
    "    length_list = [len(path) for path in shortest_paths]\n",
    "    length_list = np.array(length_list)\n",
    "    print(length_list.mean())\n",
    "    print(length_list.std())\n",
    "\n",
    "    shortest_path_graph = nx.compose_all(shortest_path_networks)\n",
    "\n",
    "    from collections import defaultdict\n",
    "    shorest_path_cytoscape_dict = defaultdict(list)\n",
    "\n",
    "    edge_sign_dict = nx.get_edge_attributes(shortest_path_graph, 'sign')\n",
    "    for edge in edge_sign_dict:\n",
    "        src = edge[0]\n",
    "        trg = edge[1]\n",
    "        sign = edge_sign_dict[edge]\n",
    "        if src in source_genes:\n",
    "            src_type = 'drug target'\n",
    "        elif src in target_genes:\n",
    "            src_type = 'autophagy'\n",
    "        else:\n",
    "            src_type = 'path gene'\n",
    "\n",
    "        if trg in source_genes:\n",
    "            trg_type = 'drug target'\n",
    "        elif trg in target_genes:\n",
    "            trg_type = 'autophagy'\n",
    "        else:\n",
    "            trg_type = 'path gene'\n",
    "\n",
    "        shorest_path_cytoscape_dict['left node'].append(src)\n",
    "        shorest_path_cytoscape_dict['right node'].append(trg)\n",
    "        shorest_path_cytoscape_dict['left type'].append(src_type)\n",
    "        shorest_path_cytoscape_dict['right type'].append(trg_type)\n",
    "        shorest_path_cytoscape_dict['edge type'].append(sign)\n",
    "\n",
    "    shorest_path_cytoscape_dataframe = pd.DataFrame(shorest_path_cytoscape_dict)\n",
    "    shorest_path_cytoscape_dataframe.to_csv(\"Score_result/cytoscape_input_{}.tsv\".format(source_gene), sep='\\t', index=False)"
   ]
  },
  {
   "cell_type": "code",
   "execution_count": 83,
   "metadata": {},
   "outputs": [],
   "source": [
    "target_genes = list(KL_added_core_nodes_FDR.keys())\n",
    "source_genes = ['ESR1', 'NR1I2', 'LEPR']"
   ]
  },
  {
   "cell_type": "code",
   "execution_count": 86,
   "metadata": {},
   "outputs": [
    {
     "name": "stdout",
     "output_type": "stream",
     "text": [
      "3.6346153846153846\n",
      "0.5074640123849943\n",
      "3.1914893617021276\n",
      "0.3934732342320624\n",
      "3.6296296296296298\n",
      "0.5543196128553987\n",
      "3.6605504587155964\n",
      "0.4925161662924606\n",
      "3.6266666666666665\n",
      "0.510511725842044\n"
     ]
    }
   ],
   "source": [
    "for source in source_genes:\n",
    "    get_shortest_path_cytoscape(source)"
   ]
  },
  {
   "cell_type": "markdown",
   "metadata": {},
   "source": [
    "## Load PDOD result"
   ]
  },
  {
   "cell_type": "code",
   "execution_count": 2,
   "metadata": {
    "tags": []
   },
   "outputs": [],
   "source": [
    "from matplotlib import pyplot as plt\n",
    "import pandas as pd\n",
    "import numpy as np\n",
    "pdod_df = pd.read_csv('Score_result/KL_added_PDOD.csv', encoding='cp949', index_col=False)\n",
    "pdod_df = pdod_df.loc[pdod_df['PDOD score'] != 0]\n",
    "pdod_df = pdod_df.sort_values(by='PDOD score', ascending=False)"
   ]
  },
  {
   "cell_type": "code",
   "execution_count": 297,
   "metadata": {
    "tags": []
   },
   "outputs": [
    {
     "data": {
      "image/png": "[encoded data removed]",
      "text/plain": [
       "<Figure size 1000x1000 with 1 Axes>"
      ]
     },
     "metadata": {},
     "output_type": "display_data"
    }
   ],
   "source": [
    "plt.figure(figsize=(10,10))\n",
    "plt.rcParams.update({'font.size': 15})\n",
    "x = np.arange(len(pdod_df))\n",
    "y = pdod_df['PDOD score']\n",
    "top_x = np.arange(305)\n",
    "top_y = pdod_df['PDOD score'][:305]\n",
    "\n",
    "plt.scatter(x,y)\n",
    "plt.scatter(top_x,top_y, c='red')\n",
    "plt.ylim(-1,1)\n",
    "plt.xlabel('Drug ranks')\n",
    "plt.ylabel('PDOD score')\n",
    "plt.axhline(y = 0, color = 'black', linestyle = '-')\n",
    "plt.axhline(y = top_y.iloc[-1], color = 'r', xmin=0, xmax=0.1)\n",
    "plt.axvline(x = 305, color = 'r', ymax=0.65)\n",
    "\n",
    "plt.savefig('PDOD score rank.png')\n",
    "plt.show()"
   ]
  },
  {
   "cell_type": "code",
   "execution_count": 44,
   "metadata": {},
   "outputs": [
    {
     "data": {
      "image/png": "[encoded data removed]",
      "text/plain": [
       "<Figure size 720x720 with 1 Axes>"
      ]
     },
     "metadata": {
      "needs_background": "light"
     },
     "output_type": "display_data"
    }
   ],
   "source": [
    "plt.figure(figsize=(10,10))\n",
    "plt.rcParams.update({'font.size': 15})\n",
    "x = pdod_df['PDOD score']\n",
    "\n",
    "plt.hist(x)\n",
    "\n",
    "plt.xlabel('PDOD score')\n",
    "plt.ylabel('Drug count')\n",
    "plt.savefig('PDOD score distribution.png')\n",
    "plt.show()"
   ]
  },
  {
   "cell_type": "markdown",
   "metadata": {},
   "source": [
    "# Filtering compounds with significant score"
   ]
  },
  {
   "cell_type": "code",
   "execution_count": 236,
   "metadata": {
    "tags": []
   },
   "outputs": [],
   "source": [
    "z_score_list = (pdod_df['PDOD score']-pdod_df['PDOD score'].mean())/pdod_df['PDOD score'].std()\n",
    "p_value_list = scipy.stats.norm.sf(z_score_list)\n",
    "pdod_df['PDOD p_value'] = p_value_list\n",
    "pdod_df['PDOD FDR p_value'] = sm.stats.fdrcorrection(pdod_df['PDOD p_value'])[1]"
   ]
  },
  {
   "cell_type": "code",
   "execution_count": 237,
   "metadata": {
    "tags": []
   },
   "outputs": [],
   "source": [
    "filtered_pdod_df = pdod_df[pdod_df['PDOD FDR p_value'] < 0.05]"
   ]
  },
  {
   "cell_type": "code",
   "execution_count": 239,
   "metadata": {
    "tags": []
   },
   "outputs": [],
   "source": [
    "filtered_drug_list = filtered_pdod_df['drug name']"
   ]
  },
  {
   "cell_type": "code",
   "execution_count": 91,
   "metadata": {
    "tags": []
   },
   "outputs": [],
   "source": [
    "filtered_drug_dict = dict()\n",
    "for drug in filtered_drug_list:\n",
    "    filtered_drug_dict[drug] = drug_dict[drug]"
   ]
  },
  {
   "cell_type": "code",
   "execution_count": 124,
   "metadata": {
    "tags": []
   },
   "outputs": [],
   "source": [
    "# group drugs by target set:\n",
    "def group_drugs_by_target_set(filtered_drug_dict):\n",
    "    from collections import defaultdict\n",
    "    target_set = list()\n",
    "    for target_info in list(filtered_drug_dict.values()):\n",
    "        if target_info not in target_set:\n",
    "            target_set.append(target_info)\n",
    "\n",
    "    target_set_dict = dict()\n",
    "    for i in range(len(target_set)):\n",
    "        target_set_dict[i] = target_set[i]\n",
    "\n",
    "    drug_group_by_target = defaultdict(list)\n",
    "    for drug in filtered_drug_dict.keys():\n",
    "        target_set_index = target_set.index(filtered_drug_dict[drug])\n",
    "        drug_group_by_target[target_set_index].append(drug)\n",
    "    return target_set_dict, drug_group_by_target"
   ]
  },
  {
   "cell_type": "code",
   "execution_count": 147,
   "metadata": {
    "tags": []
   },
   "outputs": [
    {
     "name": "stdout",
     "output_type": "stream",
     "text": [
      "9972\n",
      "positives: 2539\n",
      "negatives: 7433\n",
      "positive ratio: 0.2546129161652627\n"
     ]
    }
   ],
   "source": [
    "def get_positive_ratio_of_targets(drug_dict):\n",
    "    # count ratio of negatives and positives of drug targets\n",
    "    total_sign_list = list()\n",
    "    for drug in drug_dict:\n",
    "        target_info = drug_dict[drug]\n",
    "        sign_list = list(target_info.values())\n",
    "        total_sign_list += sign_list\n",
    "\n",
    "    positive_count = len([sign for sign in total_sign_list if sign == 'positive'])\n",
    "    negative_count = len([sign for sign in total_sign_list if sign == 'negative'])\n",
    "    positive_ratio = positive_count / (positive_count + negative_count)\n",
    "    print(len(total_sign_list))\n",
    "    print('positives:', positive_count)\n",
    "    print('negatives:', negative_count)\n",
    "    print('positive ratio:', positive_ratio)\n",
    "    return positive_ratio\n",
    "\n",
    "positive_ratio = get_positive_ratio_of_targets(drug_dict)"
   ]
  },
  {
   "cell_type": "code",
   "execution_count": 125,
   "metadata": {
    "tags": []
   },
   "outputs": [],
   "source": [
    "target_set_dict, drug_group_by_target = group_drugs_by_target_set(filtered_drug_dict)"
   ]
  },
  {
   "cell_type": "code",
   "execution_count": 168,
   "metadata": {
    "tags": []
   },
   "outputs": [],
   "source": [
    "import random\n",
    "\n",
    "def get_random_drug_set(target_set_dict, filtered_backbone_network):\n",
    "    random_drug_set = dict()\n",
    "    from toolbox import wrappers, network_utilities\n",
    "    n_random = 20\n",
    "    min_bin_size=100\n",
    "    bins = network_utilities.get_degree_binning(filtered_backbone_network, min_bin_size, None) # if lengths is given, it will only use those nodes\n",
    "    for target_set in target_set_dict:\n",
    "        target_list = list(target_set_dict[target_set].keys())\n",
    "        target_list = [target for target in target_list if target in filtered_backbone_network]\n",
    "        nodes_from_random = network_utilities.pick_random_nodes_matching_selected(filtered_backbone_network, bins, target_list, n_random, seed = 452456)\n",
    "\n",
    "        for i, node_set in enumerate(nodes_from_random):\n",
    "            node_count = len(node_set)\n",
    "            sign_list = random.choices(population = ['positive', 'negative'], weights = [positive_ratio, 1-positive_ratio], k= node_count)\n",
    "            random_target_info = {node_set[j]: sign_list[j] for j in range(node_count)}\n",
    "            random_drug_set[str(target_set)+ '_' + str(i)] = random_target_info\n",
    "    \n",
    "    return random_drug_set"
   ]
  },
  {
   "cell_type": "code",
   "execution_count": 169,
   "metadata": {
    "tags": []
   },
   "outputs": [],
   "source": [
    "random_drug_set = get_random_drug_set(target_set_dict, filtered_backbone_network)"
   ]
  },
  {
   "cell_type": "code",
   "execution_count": 184,
   "metadata": {
    "tags": []
   },
   "outputs": [
    {
     "data": {
      "application/vnd.jupyter.widget-view+json": {
       "model_id": "13bb1ca62b1246fa8c785fca5cc273b7",
       "version_major": 2,
       "version_minor": 0
      },
      "text/plain": [
       "  0%|          | 0/3440 [00:00<?, ?it/s]"
      ]
     },
     "metadata": {},
     "output_type": "display_data"
    }
   ],
   "source": [
    "PDOD('PDOD_random_target_result.csv', random_drug_set, KL_added_core_nodes_FDR, filtered_backbone_network)"
   ]
  },
  {
   "cell_type": "code",
   "execution_count": null,
   "metadata": {},
   "outputs": [],
   "source": [
    "pdod_random_df = pd.read_csv('Score_result/PDOD_random_target_result.csv', index_col=False)"
   ]
  },
  {
   "cell_type": "code",
   "execution_count": 192,
   "metadata": {
    "tags": []
   },
   "outputs": [],
   "source": [
    "target_group_list = [int(drug_name.split('_')[0]) for drug_name in pdod_random_df['drug name']]\n",
    "pdod_random_df['target_group'] = target_group_list"
   ]
  },
  {
   "cell_type": "code",
   "execution_count": 198,
   "metadata": {
    "tags": []
   },
   "outputs": [],
   "source": [
    "mean_list = pdod_random_df.groupby('target_group')['PDOD score'].mean()\n",
    "std_list = pdod_random_df.groupby('target_group')['PDOD score'].std()"
   ]
  },
  {
   "cell_type": "code",
   "execution_count": 241,
   "metadata": {
    "tags": []
   },
   "outputs": [
    {
     "name": "stderr",
     "output_type": "stream",
     "text": [
      "/tmp/ipykernel_116985/1341559873.py:7: SettingWithCopyWarning: \n",
      "A value is trying to be set on a copy of a slice from a DataFrame.\n",
      "Try using .loc[row_indexer,col_indexer] = value instead\n",
      "\n",
      "See the caveats in the documentation: https://pandas.pydata.org/pandas-docs/stable/user_guide/indexing.html#returning-a-view-versus-a-copy\n",
      "  filtered_pdod_df['target_group'] = pdod_group_list\n"
     ]
    }
   ],
   "source": [
    "drug_group_dict = dict()\n",
    "for target_group in drug_group_by_target.items():\n",
    "    for drug in target_group[1]:\n",
    "        drug_group_dict[drug] = target_group[0]\n",
    "\n",
    "pdod_group_list = [drug_group_dict[drug] for drug in filtered_pdod_df['drug name']]\n",
    "filtered_pdod_df['target_group'] = pdod_group_list"
   ]
  },
  {
   "cell_type": "code",
   "execution_count": 242,
   "metadata": {
    "tags": []
   },
   "outputs": [
    {
     "name": "stderr",
     "output_type": "stream",
     "text": [
      "/tmp/ipykernel_116985/518226870.py:9: SettingWithCopyWarning: \n",
      "A value is trying to be set on a copy of a slice from a DataFrame.\n",
      "Try using .loc[row_indexer,col_indexer] = value instead\n",
      "\n",
      "See the caveats in the documentation: https://pandas.pydata.org/pandas-docs/stable/user_guide/indexing.html#returning-a-view-versus-a-copy\n",
      "  filtered_pdod_df['PDOD proximity'] = z_scores\n"
     ]
    }
   ],
   "source": [
    "pdod_score_list = filtered_pdod_df['PDOD score']\n",
    "z_scores = []\n",
    "for i in range(len(filtered_pdod_df)):\n",
    "    group_number = filtered_pdod_df['target_group'].iloc[i]\n",
    "    group_mean = mean_list[group_number]\n",
    "    group_std = std_list[group_number]\n",
    "    z_score = (filtered_pdod_df['PDOD score'].iloc[i] - group_mean) / group_std\n",
    "    z_scores.append(z_score)\n",
    "filtered_pdod_df['PDOD proximity'] = z_scores"
   ]
  },
  {
   "cell_type": "code",
   "execution_count": 243,
   "metadata": {
    "tags": []
   },
   "outputs": [
    {
     "data": {
      "text/html": [
       "<div>\n",
       "<style scoped>\n",
       "    .dataframe tbody tr th:only-of-type {\n",
       "        vertical-align: middle;\n",
       "    }\n",
       "\n",
       "    .dataframe tbody tr th {\n",
       "        vertical-align: top;\n",
       "    }\n",
       "\n",
       "    .dataframe thead th {\n",
       "        text-align: right;\n",
       "    }\n",
       "</style>\n",
       "<table border=\"1\" class=\"dataframe\">\n",
       "  <thead>\n",
       "    <tr style=\"text-align: right;\">\n",
       "      <th></th>\n",
       "      <th>drug name</th>\n",
       "      <th>PDOD score</th>\n",
       "      <th>PDOD p_value</th>\n",
       "      <th>PDOD FDR p_value</th>\n",
       "      <th>target_group</th>\n",
       "      <th>PDOD proximity</th>\n",
       "    </tr>\n",
       "  </thead>\n",
       "  <tbody>\n",
       "    <tr>\n",
       "      <th>235</th>\n",
       "      <td>Chlorotrianisene</td>\n",
       "      <td>0.567918</td>\n",
       "      <td>0.000056</td>\n",
       "      <td>0.022215</td>\n",
       "      <td>0</td>\n",
       "      <td>8.211945</td>\n",
       "    </tr>\n",
       "    <tr>\n",
       "      <th>3754</th>\n",
       "      <td>Quinestrol</td>\n",
       "      <td>0.567918</td>\n",
       "      <td>0.000056</td>\n",
       "      <td>0.022215</td>\n",
       "      <td>0</td>\n",
       "      <td>8.211945</td>\n",
       "    </tr>\n",
       "    <tr>\n",
       "      <th>1215</th>\n",
       "      <td>Mestranol</td>\n",
       "      <td>0.567918</td>\n",
       "      <td>0.000056</td>\n",
       "      <td>0.022215</td>\n",
       "      <td>0</td>\n",
       "      <td>8.211945</td>\n",
       "    </tr>\n",
       "    <tr>\n",
       "      <th>6886</th>\n",
       "      <td>Polyestradiol phosphate</td>\n",
       "      <td>0.567918</td>\n",
       "      <td>0.000056</td>\n",
       "      <td>0.022215</td>\n",
       "      <td>0</td>\n",
       "      <td>8.211945</td>\n",
       "    </tr>\n",
       "    <tr>\n",
       "      <th>880</th>\n",
       "      <td>Ethinylestradiol</td>\n",
       "      <td>0.541010</td>\n",
       "      <td>0.000089</td>\n",
       "      <td>0.022215</td>\n",
       "      <td>1</td>\n",
       "      <td>16.515266</td>\n",
       "    </tr>\n",
       "    <tr>\n",
       "      <th>...</th>\n",
       "      <td>...</td>\n",
       "      <td>...</td>\n",
       "      <td>...</td>\n",
       "      <td>...</td>\n",
       "      <td>...</td>\n",
       "      <td>...</td>\n",
       "    </tr>\n",
       "    <tr>\n",
       "      <th>6878</th>\n",
       "      <td>Seractide acetate</td>\n",
       "      <td>0.327825</td>\n",
       "      <td>0.002434</td>\n",
       "      <td>0.042720</td>\n",
       "      <td>168</td>\n",
       "      <td>14.992934</td>\n",
       "    </tr>\n",
       "    <tr>\n",
       "      <th>7331</th>\n",
       "      <td>Lutetium Lu 177 dotatate</td>\n",
       "      <td>0.326927</td>\n",
       "      <td>0.002464</td>\n",
       "      <td>0.042959</td>\n",
       "      <td>169</td>\n",
       "      <td>24.164665</td>\n",
       "    </tr>\n",
       "    <tr>\n",
       "      <th>6767</th>\n",
       "      <td>Somatostatin</td>\n",
       "      <td>0.326927</td>\n",
       "      <td>0.002464</td>\n",
       "      <td>0.042959</td>\n",
       "      <td>169</td>\n",
       "      <td>24.164665</td>\n",
       "    </tr>\n",
       "    <tr>\n",
       "      <th>638</th>\n",
       "      <td>Ergotamine</td>\n",
       "      <td>0.319436</td>\n",
       "      <td>0.002727</td>\n",
       "      <td>0.047383</td>\n",
       "      <td>170</td>\n",
       "      <td>23.662410</td>\n",
       "    </tr>\n",
       "    <tr>\n",
       "      <th>325</th>\n",
       "      <td>Sucralfate</td>\n",
       "      <td>0.317622</td>\n",
       "      <td>0.002794</td>\n",
       "      <td>0.048393</td>\n",
       "      <td>171</td>\n",
       "      <td>13.061119</td>\n",
       "    </tr>\n",
       "  </tbody>\n",
       "</table>\n",
       "<p>305 rows × 6 columns</p>\n",
       "</div>"
      ],
      "text/plain": [
       "                     drug name  PDOD score  PDOD p_value  PDOD FDR p_value  \\\n",
       "235           Chlorotrianisene    0.567918      0.000056          0.022215   \n",
       "3754                Quinestrol    0.567918      0.000056          0.022215   \n",
       "1215                 Mestranol    0.567918      0.000056          0.022215   \n",
       "6886   Polyestradiol phosphate    0.567918      0.000056          0.022215   \n",
       "880           Ethinylestradiol    0.541010      0.000089          0.022215   \n",
       "...                        ...         ...           ...               ...   \n",
       "6878         Seractide acetate    0.327825      0.002434          0.042720   \n",
       "7331  Lutetium Lu 177 dotatate    0.326927      0.002464          0.042959   \n",
       "6767              Somatostatin    0.326927      0.002464          0.042959   \n",
       "638                 Ergotamine    0.319436      0.002727          0.047383   \n",
       "325                 Sucralfate    0.317622      0.002794          0.048393   \n",
       "\n",
       "      target_group  PDOD proximity  \n",
       "235              0        8.211945  \n",
       "3754             0        8.211945  \n",
       "1215             0        8.211945  \n",
       "6886             0        8.211945  \n",
       "880              1       16.515266  \n",
       "...            ...             ...  \n",
       "6878           168       14.992934  \n",
       "7331           169       24.164665  \n",
       "6767           169       24.164665  \n",
       "638            170       23.662410  \n",
       "325            171       13.061119  \n",
       "\n",
       "[305 rows x 6 columns]"
      ]
     },
     "execution_count": 243,
     "metadata": {},
     "output_type": "execute_result"
    }
   ],
   "source": [
    "filtered_pdod_df.sort_values('PDOD score', ascending=False)"
   ]
  },
  {
   "cell_type": "code",
   "execution_count": 247,
   "metadata": {
    "tags": []
   },
   "outputs": [
    {
     "data": {
      "text/html": [
       "<div>\n",
       "<style scoped>\n",
       "    .dataframe tbody tr th:only-of-type {\n",
       "        vertical-align: middle;\n",
       "    }\n",
       "\n",
       "    .dataframe tbody tr th {\n",
       "        vertical-align: top;\n",
       "    }\n",
       "\n",
       "    .dataframe thead th {\n",
       "        text-align: right;\n",
       "    }\n",
       "</style>\n",
       "<table border=\"1\" class=\"dataframe\">\n",
       "  <thead>\n",
       "    <tr style=\"text-align: right;\">\n",
       "      <th></th>\n",
       "      <th>drug name</th>\n",
       "      <th>PDOD score</th>\n",
       "      <th>PDOD p_value</th>\n",
       "      <th>PDOD FDR p_value</th>\n",
       "      <th>target_group</th>\n",
       "      <th>PDOD proximity</th>\n",
       "    </tr>\n",
       "  </thead>\n",
       "  <tbody>\n",
       "    <tr>\n",
       "      <th>235</th>\n",
       "      <td>Chlorotrianisene</td>\n",
       "      <td>0.567918</td>\n",
       "      <td>0.000056</td>\n",
       "      <td>0.022215</td>\n",
       "      <td>0</td>\n",
       "      <td>8.211945</td>\n",
       "    </tr>\n",
       "    <tr>\n",
       "      <th>6886</th>\n",
       "      <td>Polyestradiol phosphate</td>\n",
       "      <td>0.567918</td>\n",
       "      <td>0.000056</td>\n",
       "      <td>0.022215</td>\n",
       "      <td>0</td>\n",
       "      <td>8.211945</td>\n",
       "    </tr>\n",
       "    <tr>\n",
       "      <th>3754</th>\n",
       "      <td>Quinestrol</td>\n",
       "      <td>0.567918</td>\n",
       "      <td>0.000056</td>\n",
       "      <td>0.022215</td>\n",
       "      <td>0</td>\n",
       "      <td>8.211945</td>\n",
       "    </tr>\n",
       "    <tr>\n",
       "      <th>1215</th>\n",
       "      <td>Mestranol</td>\n",
       "      <td>0.567918</td>\n",
       "      <td>0.000056</td>\n",
       "      <td>0.022215</td>\n",
       "      <td>0</td>\n",
       "      <td>8.211945</td>\n",
       "    </tr>\n",
       "    <tr>\n",
       "      <th>880</th>\n",
       "      <td>Ethinylestradiol</td>\n",
       "      <td>0.541010</td>\n",
       "      <td>0.000089</td>\n",
       "      <td>0.022215</td>\n",
       "      <td>1</td>\n",
       "      <td>16.515266</td>\n",
       "    </tr>\n",
       "    <tr>\n",
       "      <th>...</th>\n",
       "      <td>...</td>\n",
       "      <td>...</td>\n",
       "      <td>...</td>\n",
       "      <td>...</td>\n",
       "      <td>...</td>\n",
       "      <td>...</td>\n",
       "    </tr>\n",
       "    <tr>\n",
       "      <th>6878</th>\n",
       "      <td>Seractide acetate</td>\n",
       "      <td>0.327825</td>\n",
       "      <td>0.002434</td>\n",
       "      <td>0.042720</td>\n",
       "      <td>168</td>\n",
       "      <td>14.992934</td>\n",
       "    </tr>\n",
       "    <tr>\n",
       "      <th>7331</th>\n",
       "      <td>Lutetium Lu 177 dotatate</td>\n",
       "      <td>0.326927</td>\n",
       "      <td>0.002464</td>\n",
       "      <td>0.042959</td>\n",
       "      <td>169</td>\n",
       "      <td>24.164665</td>\n",
       "    </tr>\n",
       "    <tr>\n",
       "      <th>6767</th>\n",
       "      <td>Somatostatin</td>\n",
       "      <td>0.326927</td>\n",
       "      <td>0.002464</td>\n",
       "      <td>0.042959</td>\n",
       "      <td>169</td>\n",
       "      <td>24.164665</td>\n",
       "    </tr>\n",
       "    <tr>\n",
       "      <th>638</th>\n",
       "      <td>Ergotamine</td>\n",
       "      <td>0.319436</td>\n",
       "      <td>0.002727</td>\n",
       "      <td>0.047383</td>\n",
       "      <td>170</td>\n",
       "      <td>23.662410</td>\n",
       "    </tr>\n",
       "    <tr>\n",
       "      <th>325</th>\n",
       "      <td>Sucralfate</td>\n",
       "      <td>0.317622</td>\n",
       "      <td>0.002794</td>\n",
       "      <td>0.048393</td>\n",
       "      <td>171</td>\n",
       "      <td>13.061119</td>\n",
       "    </tr>\n",
       "  </tbody>\n",
       "</table>\n",
       "<p>305 rows × 6 columns</p>\n",
       "</div>"
      ],
      "text/plain": [
       "                     drug name  PDOD score  PDOD p_value  PDOD FDR p_value  \\\n",
       "235           Chlorotrianisene    0.567918      0.000056          0.022215   \n",
       "6886   Polyestradiol phosphate    0.567918      0.000056          0.022215   \n",
       "3754                Quinestrol    0.567918      0.000056          0.022215   \n",
       "1215                 Mestranol    0.567918      0.000056          0.022215   \n",
       "880           Ethinylestradiol    0.541010      0.000089          0.022215   \n",
       "...                        ...         ...           ...               ...   \n",
       "6878         Seractide acetate    0.327825      0.002434          0.042720   \n",
       "7331  Lutetium Lu 177 dotatate    0.326927      0.002464          0.042959   \n",
       "6767              Somatostatin    0.326927      0.002464          0.042959   \n",
       "638                 Ergotamine    0.319436      0.002727          0.047383   \n",
       "325                 Sucralfate    0.317622      0.002794          0.048393   \n",
       "\n",
       "      target_group  PDOD proximity  \n",
       "235              0        8.211945  \n",
       "6886             0        8.211945  \n",
       "3754             0        8.211945  \n",
       "1215             0        8.211945  \n",
       "880              1       16.515266  \n",
       "...            ...             ...  \n",
       "6878           168       14.992934  \n",
       "7331           169       24.164665  \n",
       "6767           169       24.164665  \n",
       "638            170       23.662410  \n",
       "325            171       13.061119  \n",
       "\n",
       "[305 rows x 6 columns]"
      ]
     },
     "execution_count": 247,
     "metadata": {},
     "output_type": "execute_result"
    }
   ],
   "source": [
    "filtered_pdod_df['PDOD proximity p_value'] = stat.sm.nor.filtered_pdod_df['PDOD proximity']"
   ]
  },
  {
   "cell_type": "code",
   "execution_count": 246,
   "metadata": {
    "tags": []
   },
   "outputs": [],
   "source": [
    "filtered_pdod_df.to_csv(\"./Score_result/PDOD_FDR_filtered.tsv\", sep = '\\t', index=False)"
   ]
  },
  {
   "cell_type": "code",
   "execution_count": 275,
   "metadata": {
    "tags": []
   },
   "outputs": [
    {
     "data": {
      "text/plain": [
       "{'Amantadine',\n",
       " 'Benserazide',\n",
       " 'Biperiden',\n",
       " 'Bornaprine',\n",
       " 'Bromocriptine',\n",
       " 'Carbidopa',\n",
       " 'Entacapone',\n",
       " 'Istradefylline',\n",
       " 'Melevodopa',\n",
       " 'Opicapone',\n",
       " 'Piribedil',\n",
       " 'Quetiapine',\n",
       " 'Rasagiline',\n",
       " 'Ropinirole',\n",
       " 'Rotigotine',\n",
       " 'Safinamide',\n",
       " 'Selegiline'}"
      ]
     },
     "execution_count": 275,
     "metadata": {},
     "output_type": "execute_result"
    }
   ],
   "source": [
    "set(PD_drugs) - set(pd_in_candidate)"
   ]
  }
 ],
 "metadata": {
  "colab": {
   "collapsed_sections": [
    "deOcDMA_dyGI"
   ],
   "name": "pdod_20201106.ipynb",
   "provenance": [],
   "toc_visible": true
  },
  "kernelspec": {
   "display_name": "Python 3 (ipykernel)",
   "language": "python",
   "name": "python3"
  },
  "language_info": {
   "codemirror_mode": {
    "name": "ipython",
    "version": 3
   },
   "file_extension": ".py",
   "mimetype": "text/x-python",
   "name": "python",
   "nbconvert_exporter": "python",
   "pygments_lexer": "ipython3",
   "version": "3.11.0"
  },
  "toc": {
   "base_numbering": 1,
   "nav_menu": {},
   "number_sections": true,
   "sideBar": true,
   "skip_h1_title": false,
   "title_cell": "Table of Contents",
   "title_sidebar": "Contents",
   "toc_cell": false,
   "toc_position": {
    "height": "642px",
    "left": "39px",
    "top": "111.133px",
    "width": "384px"
   },
   "toc_section_display": true,
   "toc_window_display": true
  },
  "varInspector": {
   "cols": {
    "lenName": 16,
    "lenType": 16,
    "lenVar": 40
   },
   "kernels_config": {
    "python": {
     "delete_cmd_postfix": "",
     "delete_cmd_prefix": "del ",
     "library": "var_list.py",
     "varRefreshCmd": "print(var_dic_list())"
    },
    "r": {
     "delete_cmd_postfix": ") ",
     "delete_cmd_prefix": "rm(",
     "library": "var_list.r",
     "varRefreshCmd": "cat(var_dic_list()) "
    }
   },
   "position": {
    "height": "294.85px",
    "left": "1190px",
    "right": "94px",
    "top": "194px",
    "width": "636px"
   },
   "types_to_exclude": [
    "module",
    "function",
    "builtin_function_or_method",
    "instance",
    "_Feature"
   ],
   "window_display": false
  },
  "widgets": {
   "application/vnd.jupyter.widget-state+json": {}
  }
 },
 "nbformat": 4,
 "nbformat_minor": 4
}
